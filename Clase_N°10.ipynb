{
  "nbformat": 4,
  "nbformat_minor": 0,
  "metadata": {
    "colab": {
      "provenance": [],
      "collapsed_sections": [
        "_6f8V2TOJ08r",
        "2WtuAwIxbm7z",
        "girRprppIo7c",
        "QGdAdoyxJVz4",
        "a2wymaJ4KcHF",
        "YLKNomCdZCew",
        "T9wNX0zvZiXf",
        "wy7o93T_Z-Ss",
        "d5pX835fbaj7"
      ],
      "include_colab_link": true
    },
    "kernelspec": {
      "name": "python3",
      "display_name": "Python 3"
    },
    "language_info": {
      "name": "python"
    }
  },
  "cells": [
    {
      "cell_type": "markdown",
      "metadata": {
        "id": "view-in-github",
        "colab_type": "text"
      },
      "source": [
        "<a href=\"https://colab.research.google.com/github/alessaag/cursoIA_Polygonus/blob/main/Clase_N%C2%B010.ipynb\" target=\"_parent\"><img src=\"https://colab.research.google.com/assets/colab-badge.svg\" alt=\"Open In Colab\"/></a>"
      ]
    },
    {
      "cell_type": "markdown",
      "source": [
        "# 🎯**<font color='#FFD92F'>FUNDAMENTOS DE PROBABILIDAD</font>**🎯"
      ],
      "metadata": {
        "id": "4H21KjYsNahN"
      }
    },
    {
      "cell_type": "markdown",
      "source": [
        "# **<font color='#A6D96A'>Espacio muestral</font>**🚀\n"
      ],
      "metadata": {
        "id": "_6f8V2TOJ08r"
      }
    },
    {
      "cell_type": "markdown",
      "source": [
        "✅**Definición:** Es el conjunto de todos los resultados posibles de un experimento aleatorio."
      ],
      "metadata": {
        "id": "J2SDcPKtJ9Ow"
      }
    },
    {
      "cell_type": "markdown",
      "source": [
        "**Ejemplos:**\n",
        "\n",
        "**1. `Lanzamiento de una moneda:` {Cara, Sello} 🪙**"
      ],
      "metadata": {
        "id": "W-d34l56PGQC"
      }
    },
    {
      "cell_type": "markdown",
      "source": [
        "**2. `Lazamiento de un dado:` {1, 2, 3, 4, 5, 6 } 🤙**"
      ],
      "metadata": {
        "id": "fTdgidxTPOe3"
      }
    },
    {
      "cell_type": "markdown",
      "source": [
        "**3. `Lanzamiento de dos dados:`**"
      ],
      "metadata": {
        "id": "JcixXIVLPysW"
      }
    },
    {
      "cell_type": "code",
      "source": [
        "from IPython.display import Image\n",
        "\n",
        "Image(url='https://qph.cf2.quoracdn.net/main-qimg-1885f16e71b865a45a97f7183d754234-pjlq', width = 600, height = 500)"
      ],
      "metadata": {
        "id": "nW0B38A8P_xR",
        "outputId": "892732ec-3c21-4a80-db94-0e671c16b965",
        "colab": {
          "base_uri": "https://localhost:8080/",
          "height": 522
        }
      },
      "execution_count": 3,
      "outputs": [
        {
          "output_type": "execute_result",
          "data": {
            "text/html": [
              "<img src=\"https://qph.cf2.quoracdn.net/main-qimg-1885f16e71b865a45a97f7183d754234-pjlq\" width=\"600\" height=\"500\"/>"
            ],
            "text/plain": [
              "<IPython.core.display.Image object>"
            ]
          },
          "metadata": {},
          "execution_count": 3
        }
      ]
    },
    {
      "cell_type": "markdown",
      "source": [
        "**4. `Sacar una carta de una baraja española:`**"
      ],
      "metadata": {
        "id": "s_yiBfsBQXHl"
      }
    },
    {
      "cell_type": "code",
      "source": [
        "Image(url='https://upload.wikimedia.org/wikipedia/commons/e/e0/Baraja_espa%C3%B1ola_completa.png', width = 1200, height = 700)\n"
      ],
      "metadata": {
        "id": "_4xoRxNKOYFH"
      },
      "execution_count": null,
      "outputs": []
    },
    {
      "cell_type": "markdown",
      "source": [
        "**5. `En una partida de ajedrez:`** ♟♟"
      ],
      "metadata": {
        "id": "n3R5aoJ-Q5Dr"
      }
    },
    {
      "cell_type": "code",
      "source": [
        "Image(url='https://images.chesscomfiles.com/uploads/v1/images_users/tiny_mce/SamCopeland/phpHsVKt1.gif', width = 700, height = 500)"
      ],
      "metadata": {
        "id": "jriXB1HkOY1p"
      },
      "execution_count": null,
      "outputs": []
    },
    {
      "cell_type": "markdown",
      "source": [
        "**6. `Sistema de reconocimiento facial:`** 😶 🦊 🤖 🥵 🐶 🤦"
      ],
      "metadata": {
        "id": "dBBazUvnSy5O"
      }
    },
    {
      "cell_type": "code",
      "source": [
        "Image(url='https://i.blogs.es/3a55f1/849485-3001e78a346be043d763f8cbc1ab7cc9/1366_2000.jpg', width = 900, height = 500)"
      ],
      "metadata": {
        "id": "dUwFQ-p7SmnF"
      },
      "execution_count": null,
      "outputs": []
    },
    {
      "cell_type": "markdown",
      "source": [
        "## ⭐**<font color='#E6F598'>Tipos de espacios muestrales</font>** ⭐"
      ],
      "metadata": {
        "id": "2XNfj68FUweY"
      }
    },
    {
      "cell_type": "markdown",
      "source": [
        "## ⭐**`Espacio finito:`**"
      ],
      "metadata": {
        "id": "a9gm3szpYM0z"
      }
    },
    {
      "cell_type": "markdown",
      "source": [
        "* Lanzar una moneda: Cara o Cruz (2 elementos)\n",
        "* Lanzar un dado: 1, 2, 3, 4, 5, 6 (6 elementos)\n",
        "* Extraer una carta de una baraja española: 12 rangos (del As al Rey) x 4 pintas (Oros, Copas, Espadas, Bastos) = 48 elementos"
      ],
      "metadata": {
        "id": "W8rXZ-B3ZNsw"
      }
    },
    {
      "cell_type": "markdown",
      "source": [
        "## ⭐**`Espacio infinito:`**"
      ],
      "metadata": {
        "id": "5BsiYL9uZ5i8"
      }
    },
    {
      "cell_type": "markdown",
      "source": [
        "* Medir la altura de las personas en una ciudad: 1.50 m, 1.60 m, 1.70 m, 1.80 m, ... (infinitos elementos)\n",
        "\n",
        "* Elegir un número real entre 0 y 1: 0.1, 0.2, 0.3, 0.4, 0.01, 0.001, ... (infinitos elementos)"
      ],
      "metadata": {
        "id": "cIazNvehac5-"
      }
    },
    {
      "cell_type": "markdown",
      "source": [
        "## ⭐**`Espacio contable:`**"
      ],
      "metadata": {
        "id": "l4ndfx6GalFY"
      }
    },
    {
      "cell_type": "markdown",
      "source": [
        "* Los números naturales: 1, 2, 3, 4, 5, 6, ... (infinitos pero contables)\n",
        "* Los números pares: 2, 4, 6, 8, 10, ... (infinitos pero contables)\n",
        "* Las palabras que se pueden escribir con 26 letras: a, b, c, ..., aa, ab, ac, ... (infinitos pero contables)"
      ],
      "metadata": {
        "id": "RQV4qWiDaq0M"
      }
    },
    {
      "cell_type": "markdown",
      "source": [
        "## ⭐**`Espacio incontable:`**"
      ],
      "metadata": {
        "id": "ZPqiCZtqa3lt"
      }
    },
    {
      "cell_type": "markdown",
      "source": [
        "* Los números reales: 0.1, 0.2, 0.3, 0.4, 0.01, 0.001, ..., π, √2, e, ... (infinitos e incontables)\n",
        "* Los puntos en una línea recta: Hay infinitos puntos entre cualquier par de puntos.\n",
        "* Los colores posibles: El espectro de colores es continuo e infinito."
      ],
      "metadata": {
        "id": "79v87U2Ba_S2"
      }
    },
    {
      "cell_type": "markdown",
      "source": [
        "# **<font color='#6BAED6'>Eventos</font>**📺\n",
        "\n",
        "\n"
      ],
      "metadata": {
        "id": "2WtuAwIxbm7z"
      }
    },
    {
      "cell_type": "markdown",
      "source": [
        "✅**Definición:**  Son subconjuntos del espacio muestral."
      ],
      "metadata": {
        "id": "HWFQgw2qcBaT"
      }
    },
    {
      "cell_type": "markdown",
      "source": [
        "* **a) Obtener un \"7\" al lanzar dos dados:**"
      ],
      "metadata": {
        "id": "M2sAo9pZAXD6"
      }
    },
    {
      "cell_type": "code",
      "source": [
        "Image(url='https://static.vecteezy.com/system/resources/previews/006/640/487/non_2x/dice-roll-probability-table-to-calculate-the-probability-of-2-dices-vector.jpg', width = 600, height = 500)"
      ],
      "metadata": {
        "id": "ZYCft6TQFZ2R"
      },
      "execution_count": null,
      "outputs": []
    },
    {
      "cell_type": "markdown",
      "source": [
        "* **b) Recomendar una pelicula:**\n",
        "        Espacio muestral: El conjunto de todas las películas posibles.\n",
        "        Evento: \"Un usuario recomienda una película de ciencia ficción\""
      ],
      "metadata": {
        "id": "Z2JM2pwkBR3B"
      }
    },
    {
      "cell_type": "code",
      "source": [
        "Image(url='https://ca-times.brightspotcdn.com/dims4/default/5adb4d4/2147483647/strip/true/crop/2527x3000+0+0/resize/1200x1425!/quality/75/?url=https%3A%2F%2Fcalifornia-times-brightspot.s3.amazonaws.com%2Faa%2F8d%2F04f59eaeea2bdd52001c9660fceb%2Fc1d8842f670d40f28bf740ddd91caa1a', width = 600, height = 700)"
      ],
      "metadata": {
        "id": "-wnvdko2CjOw"
      },
      "execution_count": null,
      "outputs": []
    },
    {
      "cell_type": "markdown",
      "source": [
        "* **c) Detectar el rostro en una imagen:**\n",
        "\n",
        "        Espacio muestral: El conjunto de todas las imágenes posibles\n",
        "        Evento: \"La imagen contiene un rostro humano\""
      ],
      "metadata": {
        "id": "rDxvxeC_BaE9"
      }
    },
    {
      "cell_type": "code",
      "source": [
        "Image(url='https://i0.wp.com/blog.330ohms.com/wp-content/uploads/2020/11/yolo_bounding_boxes.png?fit=700%2C470&ssl=1', width = 800, height = 500)"
      ],
      "metadata": {
        "id": "d84BOcAQHJJL"
      },
      "execution_count": null,
      "outputs": []
    },
    {
      "cell_type": "markdown",
      "source": [
        "* **d) Clasificar un correo como spam:**\n",
        "\n",
        "        Espacio muestral: El conjunto de todos los correos electrónicos posibles\n",
        "        Evento: \"El correo electrónico es spam\""
      ],
      "metadata": {
        "id": "uxX-X1s8Bitf"
      }
    },
    {
      "cell_type": "code",
      "source": [
        "Image(url='https://help.wnpower.com/hc/article_attachments/360043871611', width = 900, height = 500)"
      ],
      "metadata": {
        "id": "h2jZ6UKJBZds"
      },
      "execution_count": null,
      "outputs": []
    },
    {
      "cell_type": "markdown",
      "source": [
        "# **<font color='#DE77AE'>Conceptos básicos de Probabilidad</font>** 🐶 🐈"
      ],
      "metadata": {
        "id": "girRprppIo7c"
      }
    },
    {
      "cell_type": "markdown",
      "source": [
        "✅ **`Propiedades de la probabilidad:`**\n",
        "\n",
        "* La probabilidad de un evento siempre está entre 0 y 1.\n",
        "* La probabilidad del evento seguro es 1.\n",
        "* La probabilidad del evento imposible es 0.\n",
        "* La suma de las probabilidades de todos los eventos posibles es 1."
      ],
      "metadata": {
        "id": "ltU3D3ltJCbR"
      }
    },
    {
      "cell_type": "code",
      "source": [
        "Image(url='https://matemovil.com/wp-content/uploads/2018/11/Probabilidades-gr%C3%A1fica.jpg', width = 550, height = 300)"
      ],
      "metadata": {
        "id": "R4y_mYQnbxxV",
        "outputId": "ef18d9f7-2721-4d71-9339-914642cb2663",
        "colab": {
          "base_uri": "https://localhost:8080/",
          "height": 322
        }
      },
      "execution_count": 4,
      "outputs": [
        {
          "output_type": "execute_result",
          "data": {
            "text/html": [
              "<img src=\"https://matemovil.com/wp-content/uploads/2018/11/Probabilidades-gr%C3%A1fica.jpg\" width=\"550\" height=\"300\"/>"
            ],
            "text/plain": [
              "<IPython.core.display.Image object>"
            ]
          },
          "metadata": {},
          "execution_count": 4
        }
      ]
    },
    {
      "cell_type": "markdown",
      "source": [
        "## **`Clasificación de imágenes`**\n",
        "\n",
        "---\n",
        "\n"
      ],
      "metadata": {
        "id": "QGdAdoyxJVz4"
      }
    },
    {
      "cell_type": "code",
      "source": [
        "Image(url='https://blog.kakaocdn.net/dn/b1RIA3/btqPia8eFIR/FAB2D6OtTMSEpK49igEpuk/img.png', width = 600, height = 500)"
      ],
      "metadata": {
        "id": "vrEDrmAxLDfC",
        "outputId": "9d7642db-5aa2-4172-ecbe-7ec8bc39e5fb",
        "colab": {
          "base_uri": "https://localhost:8080/",
          "height": 522
        }
      },
      "execution_count": 5,
      "outputs": [
        {
          "output_type": "execute_result",
          "data": {
            "text/html": [
              "<img src=\"https://blog.kakaocdn.net/dn/b1RIA3/btqPia8eFIR/FAB2D6OtTMSEpK49igEpuk/img.png\" width=\"600\" height=\"500\"/>"
            ],
            "text/plain": [
              "<IPython.core.display.Image object>"
            ]
          },
          "metadata": {},
          "execution_count": 5
        }
      ]
    },
    {
      "cell_type": "markdown",
      "source": [
        "Un sistema de inteligencia artificial está diseñado para clasificar imágenes de gatos y perros. Se ha entrenado con un conjunto de datos de 1000 imágenes, de las cuales 600 son de gatos y 400 de perros. Si se le presenta una nueva imagen al sistema, ***¿Cuál es la probabilidad de que la clasifique correctamente?***\n",
        "\n",
        "Solución:\n",
        "\n",
        "* **Espacio muestral:** El conjunto de todas las imágenes posibles.\n",
        "* **Evento A:** \"La imagen es clasificada como gato\".\n",
        "* **Evento B:** \"La imagen es clasificada como perro\"."
      ],
      "metadata": {
        "id": "kGyaDRAXLxbo"
      }
    },
    {
      "cell_type": "markdown",
      "source": [
        "✅ **Aplicando la regla de Laplace**\n",
        "\n",
        "* **Probabilidad de A:** Casos Favorables de A / Casos Totales\n",
        "        P(A) = 600/1000 = 0.6\n",
        "\n",
        "* **Probabilidad de B:** Casos Favorables de B / Casos Totales\n",
        "        P(B) = 400/1000 = 0.4"
      ],
      "metadata": {
        "id": "meyK7Z2BPzzZ"
      }
    },
    {
      "cell_type": "markdown",
      "source": [
        "### ⛳ **<font color='#D9F0A3'>Aplicación en Python</font>** ⛳\n"
      ],
      "metadata": {
        "id": "N2gg1mmsXNrD"
      }
    },
    {
      "cell_type": "code",
      "source": [
        "# Clasificación de imágenes\n",
        "\n",
        "n_imagenes = 1000\n",
        "n_gatos = 600\n",
        "n_perros = n_imagenes - n_gatos\n",
        "\n",
        "probabilidad_gato = n_gatos / n_imagenes\n",
        "probabilidad_perro = n_perros / n_imagenes\n",
        "\n",
        "print(f\"Probabilidad de gato: {probabilidad_gato}\")\n",
        "print(f\"Probabilidad de perro: {probabilidad_perro}\")\n"
      ],
      "metadata": {
        "id": "JoXHrDNCQkBT"
      },
      "execution_count": null,
      "outputs": []
    },
    {
      "cell_type": "markdown",
      "source": [
        "## **`Detección de rostros:`**\n",
        "\n",
        "---\n",
        "\n"
      ],
      "metadata": {
        "id": "a2wymaJ4KcHF"
      }
    },
    {
      "cell_type": "code",
      "source": [
        "Image(url='https://www.codificandobits.com/img/posts/2020-06-15/clasificacion-rostro.png', width = 500, height = 400)"
      ],
      "metadata": {
        "id": "csSs36G8SZmd",
        "outputId": "7a8e0425-8dd1-4694-a35f-6f5aea5e1880",
        "colab": {
          "base_uri": "https://localhost:8080/",
          "height": 422
        }
      },
      "execution_count": 10,
      "outputs": [
        {
          "output_type": "execute_result",
          "data": {
            "text/html": [
              "<img src=\"https://www.codificandobits.com/img/posts/2020-06-15/clasificacion-rostro.png\" width=\"500\" height=\"400\"/>"
            ],
            "text/plain": [
              "<IPython.core.display.Image object>"
            ]
          },
          "metadata": {},
          "execution_count": 10
        }
      ]
    },
    {
      "cell_type": "markdown",
      "source": [
        "Un sistema de inteligencia artificial está diseñado para detectar rostros en imágenes. Se ha probado en un conjunto de 100 imágenes, de las cuales 80 contienen rostros y 20 no. Si se le presenta una nueva imagen al sistema, ***¿Cuál es la probabilidad de que detecte un rostro correctamente?***\n",
        "\n",
        "Solución:\n",
        "\n",
        "* **Espacio muestral:** El conjunto de todas las imágenes posibles.\n",
        "* **Evento A:** \"La imagen contiene un rostro y el sistema lo detecta\".\n",
        "* **Evento B:** \"La imagen no contiene un rostro y el sistema no lo detecta\"."
      ],
      "metadata": {
        "id": "RMuMM_j5S6kZ"
      }
    },
    {
      "cell_type": "markdown",
      "source": [
        "✅ **Aplicando la regla de Laplace**\n",
        "\n",
        "* **Probabilidad de A:** Casos Favorables de A / Casos Totales\n",
        "        P(A) = 80/100 = 0.8\n",
        "\n",
        "* **Probabilidad de B:** Casos Favorables de B / Casos Totales\n",
        "        P(B) = 20/100 = 0.2"
      ],
      "metadata": {
        "id": "Gc2OGMmKW29-"
      }
    },
    {
      "cell_type": "markdown",
      "source": [
        "### ⛳ **<font color='#D9F0A3'>Aplicación en Python</font>** ⛳"
      ],
      "metadata": {
        "id": "lt5ZYdMNXfLS"
      }
    },
    {
      "cell_type": "code",
      "source": [
        "# Detección de rostros\n",
        "\n",
        "n_imagenes = 100\n",
        "n_rostros = 80\n",
        "\n",
        "probabilidad_rostro = n_rostros / n_imagenes\n",
        "probabilidad_sin_rostro = (n_imagenes - n_rostros)/n_imagenes\n",
        "\n",
        "print(f\"Probabilidad de rostro: {probabilidad_rostro}\")\n",
        "print(f\"Probabilidad de sin rostro: {probabilidad_sin_rostro}\")\n"
      ],
      "metadata": {
        "id": "kTrxK9bRXf_2",
        "outputId": "2c2a756b-677c-4108-9bde-e9a3bc7d3a77",
        "colab": {
          "base_uri": "https://localhost:8080/"
        }
      },
      "execution_count": 9,
      "outputs": [
        {
          "output_type": "stream",
          "name": "stdout",
          "text": [
            "Probabilidad de rostro: 0.8\n",
            "Probabilidad de sin rostro: 0.2\n"
          ]
        }
      ]
    },
    {
      "cell_type": "markdown",
      "source": [
        "# **<font color='#E64358'>Ejercicios prácticos de Probabilidad</font>**🍀"
      ],
      "metadata": {
        "id": "YLKNomCdZCew"
      }
    },
    {
      "cell_type": "markdown",
      "source": [
        "### **`Recomendación de películas:`**"
      ],
      "metadata": {
        "id": "T9wNX0zvZiXf"
      }
    },
    {
      "cell_type": "code",
      "source": [
        "Image(url='https://cdn6.dibujos.net/images/listas/las-mejores-peliculas-infantiles-de-netflix.jpg', width = 800, height = 400)"
      ],
      "metadata": {
        "id": "37iYhzSIZmPa",
        "outputId": "d81485aa-fe94-4a02-86e8-2001180481c9",
        "colab": {
          "base_uri": "https://localhost:8080/",
          "height": 422
        }
      },
      "execution_count": 11,
      "outputs": [
        {
          "output_type": "execute_result",
          "data": {
            "text/html": [
              "<img src=\"https://cdn6.dibujos.net/images/listas/las-mejores-peliculas-infantiles-de-netflix.jpg\" width=\"800\" height=\"400\"/>"
            ],
            "text/plain": [
              "<IPython.core.display.Image object>"
            ]
          },
          "metadata": {},
          "execution_count": 11
        }
      ]
    },
    {
      "cell_type": "markdown",
      "source": [
        "Un sistema de inteligencia artificial está diseñado para recomendar películas a los usuarios. Se ha entrenado con un conjunto de datos de 1000 usuarios, de los cuales 600 prefieren películas de acción y 400 prefieren películas de comedia. Si se le presenta un nuevo usuario al sistema, ***¿Cuál es la probabilidad de que le recomiende una película de acción?***\n",
        "\n",
        "\n",
        "Solución:\n",
        "\n",
        "* **Espacio muestral:** El conjunto de todas las películas posibles.\n",
        "* **Evento A:** \"El sistema recomienda una película de acción\".\n",
        "* **Evento B:** \"El sistema recomienda una película de comedia\".\n",
        "\n",
        "---\n",
        "\n"
      ],
      "metadata": {
        "id": "nQCyMl0-KcPx"
      }
    },
    {
      "cell_type": "code",
      "source": [
        "# Recomendación de películas\n",
        "\n",
        "n_datos = 1000\n",
        "n_prefieren_accion = 600\n",
        "\n",
        "probabilidad_accion = n_prefieren_accion / n_datos\n",
        "probabilidad_comedia = (n_datos- n_prefieren_accion)/n_datos\n",
        "\n",
        "print(f\"Probabilidad de recomendación de película de acción: {probabilidad_accion}\")\n",
        "print(f\"Probabilidad de recomendación de película de comedia: {probabilidad_comedia}\")"
      ],
      "metadata": {
        "id": "sW3E6x6zNWBO",
        "outputId": "a32136a3-62e9-4fc4-ce52-3a6ecc4ac8a1",
        "colab": {
          "base_uri": "https://localhost:8080/"
        }
      },
      "execution_count": 13,
      "outputs": [
        {
          "output_type": "stream",
          "name": "stdout",
          "text": [
            "Probabilidad de recomendación de película de acción: 0.6\n",
            "Probabilidad de recomendación de película de comedia: 0.4\n"
          ]
        }
      ]
    },
    {
      "cell_type": "markdown",
      "source": [
        "### **`Traducción automática:`**"
      ],
      "metadata": {
        "id": "wy7o93T_Z-Ss"
      }
    },
    {
      "cell_type": "code",
      "source": [
        "Image(url='https://hiramnoriega.com/wp-content/uploads/2020/11/34544536456.jpg', width = 800, height = 400)"
      ],
      "metadata": {
        "id": "gyW90lh9aDWs",
        "outputId": "f22cf03d-0d07-45dc-86f2-ce75f6d5dc64",
        "colab": {
          "base_uri": "https://localhost:8080/",
          "height": 422
        }
      },
      "execution_count": 12,
      "outputs": [
        {
          "output_type": "execute_result",
          "data": {
            "text/html": [
              "<img src=\"https://hiramnoriega.com/wp-content/uploads/2020/11/34544536456.jpg\" width=\"800\" height=\"400\"/>"
            ],
            "text/plain": [
              "<IPython.core.display.Image object>"
            ]
          },
          "metadata": {},
          "execution_count": 12
        }
      ]
    },
    {
      "cell_type": "markdown",
      "source": [
        "Un sistema de inteligencia artificial está diseñado para traducir textos del inglés al español. Se ha probado en un conjunto de 1000 oraciones, de las cuales 800 fueron traducidas correctamente y 200 no. Si se le presenta una nueva oración al sistema, ***¿Cuál es la probabilidad de que la traduzca correctamente?***\n",
        "\n",
        "Solución:\n",
        "\n",
        "* **Espacio muestral:** El conjunto de todas las oraciones posibles.\n",
        "* **Evento A:** \"La oración es traducida correctamente\".\n",
        "* **Evento B:** \"La oración no es traducida correctamente\".\n",
        "\n",
        "---\n",
        "\n"
      ],
      "metadata": {
        "id": "uKaW8hE6KcYX"
      }
    },
    {
      "cell_type": "markdown",
      "source": [
        "# **<font color='#AD8CFF'>Referencias Bibliográficas</font>** 📚"
      ],
      "metadata": {
        "id": "d5pX835fbaj7"
      }
    },
    {
      "cell_type": "markdown",
      "source": [
        "📙**Libros:**\n",
        "\n",
        "> **<font color='#FE9929'>Python para la ciencia de datos - Jake VanderPlas:</font>**\n",
        "\n",
        "Este libro introduce los conceptos básicos de la ciencia de datos y el análisis de datos con Python. Cubre temas como la probabilidad, la estadística, la regresión lineal, el aprendizaje automático y la visualización de datos.\n",
        "\n",
        "> **<font color='#FE9929'>Python para el análisis de datos - Wes McKinney:</font>**\n",
        "\n",
        "Este libro se centra en el análisis de datos con Python, utilizando la biblioteca pandas. Cubre temas como la manipulación de datos, la limpieza de datos, la agregación de datos, la visualización de datos y el análisis estadístico.\n",
        "\n",
        "\n",
        "> **<font color='#FE9929'>Probabilidad y estadística con Python - Allen B. Downey:</font>**\n",
        "\n",
        "Este libro presenta una introducción a la probabilidad y la estadística utilizando Python. Cubre temas como la probabilidad clásica, la probabilidad frecuentista, la probabilidad bayesiana, la estadística descriptiva, la inferencia estadística y el análisis de regresión."
      ],
      "metadata": {
        "id": "sYKz5vRqbgAs"
      }
    },
    {
      "cell_type": "markdown",
      "source": [
        "🔰 **Recursos en linea:**"
      ],
      "metadata": {
        "id": "t8ef3-58b9W8"
      }
    },
    {
      "cell_type": "markdown",
      "source": [
        "> **<font color='#FFD92F'>Curso de Python para probabilidad y estadística - DataCamp:**</font>\n",
        "\n",
        "Este curso online enseña los fundamentos de la probabilidad y la estadística con Python. Cubre temas como la probabilidad clásica, la probabilidad condicional, la independencia, el teorema de Bayes, la distribución normal, la inferencia estadística y el análisis de regresión.\n",
        "\n",
        "\n",
        "\n",
        "> **<font color='#FFD92F'>Tutorial de Python para probabilidad y estadística - W3Schools:</font>**\n",
        "\n",
        "Este tutorial ofrece una introducción a la probabilidad y la estadística con Python. Cubre temas como la probabilidad clásica, la probabilidad condicional, la independencia, el teorema de Bayes, la distribución normal, la inferencia estadística y el análisis de regresión.\n",
        "\n",
        "\n",
        "\n"
      ],
      "metadata": {
        "id": "5XLtom-IdjrA"
      }
    }
  ]
}