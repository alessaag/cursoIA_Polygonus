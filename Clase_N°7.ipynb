{
  "nbformat": 4,
  "nbformat_minor": 0,
  "metadata": {
    "colab": {
      "provenance": [],
      "include_colab_link": true
    },
    "kernelspec": {
      "name": "python3",
      "display_name": "Python 3"
    },
    "language_info": {
      "name": "python"
    }
  },
  "cells": [
    {
      "cell_type": "markdown",
      "metadata": {
        "id": "view-in-github",
        "colab_type": "text"
      },
      "source": [
        "<a href=\"https://colab.research.google.com/github/alessaag/cursoIA_Polygonus/blob/main/Clase_N%C2%B07.ipynb\" target=\"_parent\"><img src=\"https://colab.research.google.com/assets/colab-badge.svg\" alt=\"Open In Colab\"/></a>"
      ]
    },
    {
      "cell_type": "markdown",
      "source": [
        "🔖 **DEFINICIÓN DE OPERACIONES BOOLEANAS: AND, OR, NOT.**\n",
        "---\n",
        "\n"
      ],
      "metadata": {
        "id": "hhFE_o-Lgwb4"
      }
    },
    {
      "cell_type": "markdown",
      "source": [
        "Las operaciones booleanas son operaciones lógicas que se utilizan para evaluar dos valores booleanos (True o False) y devolver un único valor booleano como resultado. Estas operaciones son fundamentales en la programación, especialmente en el campo de la inteligencia artificial."
      ],
      "metadata": {
        "id": "R7RX2wEFhEEq"
      }
    },
    {
      "cell_type": "markdown",
      "source": [
        "    A continuación, se presenta la definición de cada operación booleana:"
      ],
      "metadata": {
        "id": "K6I-JGd5hsOb"
      }
    },
    {
      "cell_type": "markdown",
      "source": [
        "**1. ```and``` (Y):**\n",
        "---\n",
        "\n"
      ],
      "metadata": {
        "id": "AQbPgajZhzur"
      }
    },
    {
      "cell_type": "markdown",
      "source": [
        "* Esta operación devuelve ```True``` si **ambos** valores son ```True```. De lo contrario, devuelve ```False```."
      ],
      "metadata": {
        "id": "hJN9H3cJig0A"
      }
    },
    {
      "cell_type": "markdown",
      "source": [
        "🎯**TABLA DE VERDAD**\n",
        "\n",
        "\n",
        "---\n",
        "\n"
      ],
      "metadata": {
        "id": "iGX7Gmr3jP5P"
      }
    },
    {
      "cell_type": "code",
      "source": [
        "from tabulate import tabulate\n",
        "\n",
        "matriz = [['True', 'True', 'True'], ['True', 'False', 'False'], ['False', 'True' , 'False'], ['False', 'False' , 'False'] ]\n",
        "\n",
        "print(tabulate(matriz, headers=['A', 'B', 'A and B']))"
      ],
      "metadata": {
        "id": "SEBWtjEKmSR7",
        "outputId": "3a18f70e-2a9b-4b68-bb3b-06414350a190",
        "colab": {
          "base_uri": "https://localhost:8080/"
        }
      },
      "execution_count": null,
      "outputs": [
        {
          "output_type": "stream",
          "name": "stdout",
          "text": [
            "A      B      A and B\n",
            "-----  -----  ---------\n",
            "True   True   True\n",
            "True   False  False\n",
            "False  True   False\n",
            "False  False  False\n"
          ]
        }
      ]
    },
    {
      "cell_type": "markdown",
      "source": [
        "🔥**EJEMPLOS Y APLICACIONES**\n",
        "\n",
        "\n",
        "---\n",
        "\n"
      ],
      "metadata": {
        "id": "LeGBL5eP1WJq"
      }
    },
    {
      "cell_type": "code",
      "source": [
        "a = False\n",
        "b = False\n",
        "\n",
        "resultado = a and b\n",
        "print(resultado)"
      ],
      "metadata": {
        "id": "TjsA4523m-BW"
      },
      "execution_count": null,
      "outputs": []
    },
    {
      "cell_type": "markdown",
      "source": [
        "**1. Clasificación de datos:**\n",
        "\n",
        "Supongamos que tenemos un conjunto de datos de clientes con dos características:\n",
        "\n",
        "* **Edad:** ```True``` si el cliente es mayor de edad, ```False``` si no lo es.\n",
        "* **Genero:** ```True``` si el cliente es hombre, ```False``` si es mujer."
      ],
      "metadata": {
        "id": "5K-jdft82EXZ"
      }
    },
    {
      "cell_type": "markdown",
      "source": [
        "Queremos clasificar a los clientes en dos grupos:\n",
        "\n",
        "*   **Grupo A:** Clientes mayores de edad y hombres.\n",
        "*   **Grupo B:** Clientes que no cumplen con criterios del Grupo A.\n",
        "\n",
        "Podemos utilizar las operaciones booleanas para realizar esta clasificación:\n",
        "\n"
      ],
      "metadata": {
        "id": "3UblKVmJ3Ew9"
      }
    },
    {
      "cell_type": "code",
      "source": [
        "edad = True\n",
        "genero = True\n",
        "\n",
        "if edad and genero:\n",
        "    print(\"Grupo A\")\n",
        "\n",
        "else:\n",
        "    print(\"Grupo B\")"
      ],
      "metadata": {
        "id": "jqkZwx5816yz"
      },
      "execution_count": null,
      "outputs": []
    },
    {
      "cell_type": "markdown",
      "source": [
        "**2. Regresión logística:**\n",
        "\n",
        "La regresión logística es un modelo de aprendizaje automático que se utiliza para predecir la probabilidad de un evento. En este caso, podemos utilizar la regresión logística para predecir la probabilidad de que un cliente compre un producto.\n",
        "\n",
        "* **Edad:** ```True``` si el cliente es mayor de edad, ```False``` si no lo es.\n",
        "* **Género:** ```True``` si el cliente es hombre, ```False``` si es mujer.\n",
        "* **Ingresos:** Ingresos anuales del cliente.\n"
      ],
      "metadata": {
        "id": "D0sJ7r1i35j_"
      }
    },
    {
      "cell_type": "markdown",
      "source": [
        "Podemos utilizar las operaciones booleanas para crear una variable que represente el interés del cliente en comprar el producto:"
      ],
      "metadata": {
        "id": "KQnKaVHH4mHa"
      }
    },
    {
      "cell_type": "code",
      "source": [
        "edad = True\n",
        "genero = True\n",
        "ingresos = 49999\n",
        "\n",
        "interes = edad and genero and (ingresos >= 50000)\n",
        "\n",
        "if interes:\n",
        "    print(\"Cliente con alto interés\")\n",
        "\n",
        "else:\n",
        "    print(\"Cliente con bajo interés\")"
      ],
      "metadata": {
        "id": "0N4SskZM4qGC"
      },
      "execution_count": null,
      "outputs": []
    },
    {
      "cell_type": "markdown",
      "source": [
        "**2. ```or``` (O):**\n",
        "---\n"
      ],
      "metadata": {
        "id": "_9tKUOSNmdj3"
      }
    },
    {
      "cell_type": "markdown",
      "source": [
        "* Esta operación devuelve ```True``` si **al menos uno** de los valores es ```True```. Solo devuelve ```False``` si **ambos** valores son ```False```"
      ],
      "metadata": {
        "id": "XLi2ZNaL1Ju8"
      }
    },
    {
      "cell_type": "markdown",
      "source": [
        "🎯**TABLA DE VERDAD**"
      ],
      "metadata": {
        "id": "rg6j9G_ByqvV"
      }
    },
    {
      "cell_type": "code",
      "source": [
        "from tabulate import tabulate\n",
        "\n",
        "matriz = [['True', 'True', 'True'], ['True', 'False', 'True'], ['False', 'True' , 'True'], ['False', 'False' , 'False'] ]\n",
        "\n",
        "print(tabulate(matriz, headers=['A', 'B', 'A or B']))"
      ],
      "metadata": {
        "id": "CX7XgYHCyum6",
        "outputId": "0104a081-986c-4f38-d689-cd6e306c1e6b",
        "colab": {
          "base_uri": "https://localhost:8080/"
        }
      },
      "execution_count": null,
      "outputs": [
        {
          "output_type": "stream",
          "name": "stdout",
          "text": [
            "A      B      A or B\n",
            "-----  -----  --------\n",
            "True   True   True\n",
            "True   False  True\n",
            "False  True   True\n",
            "False  False  False\n"
          ]
        }
      ]
    },
    {
      "cell_type": "markdown",
      "source": [
        "🔥**EJEMPLOS Y APLICACIONES**"
      ],
      "metadata": {
        "id": "4OLybIro6NgU"
      }
    },
    {
      "cell_type": "markdown",
      "source": [
        "**1. Verificar si un usuario tiene acceso a un sistema:**"
      ],
      "metadata": {
        "id": "kpMqJlcp5UzE"
      }
    },
    {
      "cell_type": "code",
      "source": [
        "huella = False\n",
        "contrasena = \"0636\"\n",
        "\n",
        "if huella == True or contrasena == \"0521\":\n",
        "    print(\"Acceso permitido\")\n",
        "\n",
        "else:\n",
        "    print(\"Acceso denegado\")"
      ],
      "metadata": {
        "id": "ncTnNk8K6Rrg"
      },
      "execution_count": null,
      "outputs": []
    },
    {
      "cell_type": "markdown",
      "source": [
        "**3. ```not``` (NO):**\n",
        "---"
      ],
      "metadata": {
        "id": "YElKxk18zD9t"
      }
    },
    {
      "cell_type": "markdown",
      "source": [
        "* Esta operación invierte el valor de un solo valor booleano. Duvuelve ```True``` si el valor es ```False``` y ```False``` si el valor es ```False```."
      ],
      "metadata": {
        "id": "ysMveKGB1Pty"
      }
    },
    {
      "cell_type": "markdown",
      "source": [
        "🎯**TABLA DE VERDAD**"
      ],
      "metadata": {
        "id": "xBxCW9LT0ixP"
      }
    },
    {
      "cell_type": "code",
      "source": [
        "from tabulate import tabulate\n",
        "\n",
        "matriz = [['True', 'False'], ['False', 'True'],]\n",
        "\n",
        "print(tabulate(matriz, headers=['A', 'not A']))"
      ],
      "metadata": {
        "id": "1oBkx2DP0lTv",
        "colab": {
          "base_uri": "https://localhost:8080/"
        },
        "outputId": "4b3b0972-c26d-4250-ad47-65401c15cd0a"
      },
      "execution_count": null,
      "outputs": [
        {
          "output_type": "stream",
          "name": "stdout",
          "text": [
            "A      not A\n",
            "-----  -------\n",
            "True   False\n",
            "False  True\n"
          ]
        }
      ]
    },
    {
      "cell_type": "markdown",
      "source": [
        "🔥**EJEMPLOS Y APLICACIONES**"
      ],
      "metadata": {
        "id": "hUXHzNx07X78"
      }
    },
    {
      "cell_type": "markdown",
      "source": [
        "**1. Filtrar una lista de números:**"
      ],
      "metadata": {
        "id": "BgRfUlQT7dbC"
      }
    },
    {
      "cell_type": "code",
      "source": [
        "numeros = [1, 2, 3, 4, 5, 6, 7, 8, 9, 10]\n",
        "\n",
        "numeros_pares = [numero for numero in numeros if not numero %2 == 0]\n",
        "print(f\"Numeros pares: {numeros_pares}\")"
      ],
      "metadata": {
        "id": "bBiGh9xS0w0y"
      },
      "execution_count": null,
      "outputs": []
    },
    {
      "cell_type": "markdown",
      "source": [
        "✅**EJERCICIOS INTERACTIVOS PARA PRACTICAS OPERACIONES BOOLEANAS**\n",
        "---\n",
        "\n"
      ],
      "metadata": {
        "id": "4eZZ1upR8-up"
      }
    },
    {
      "cell_type": "markdown",
      "source": [
        "* **¿Qué devuelve la operación** ```True and False```**?**"
      ],
      "metadata": {
        "id": "N4fTniCZ9NsD"
      }
    },
    {
      "cell_type": "markdown",
      "source": [],
      "metadata": {
        "id": "QyNqKT-S9ugJ"
      }
    },
    {
      "cell_type": "markdown",
      "source": [
        "* **¿Qué devuelve la operación** ```True or False```**?**"
      ],
      "metadata": {
        "id": "NeOjsWDq9uSV"
      }
    },
    {
      "cell_type": "markdown",
      "source": [],
      "metadata": {
        "id": "9NosiaBZBjto"
      }
    },
    {
      "cell_type": "markdown",
      "source": [
        "* **¿Qué devuelve la operación** ```not True```**?**"
      ],
      "metadata": {
        "id": "pGJPW3eW9xdZ"
      }
    },
    {
      "cell_type": "markdown",
      "source": [],
      "metadata": {
        "id": "1j0m_sMb9zIf"
      }
    },
    {
      "cell_type": "markdown",
      "source": [
        "* **¿Qué devuelve la operación** ```not False```**?**"
      ],
      "metadata": {
        "id": "xaNqtHKn90hH"
      }
    },
    {
      "cell_type": "markdown",
      "source": [],
      "metadata": {
        "id": "_oc80XnD91xK"
      }
    },
    {
      "cell_type": "markdown",
      "source": [
        "⏩**Completar el código:**"
      ],
      "metadata": {
        "id": "Vut827RD-ACa"
      }
    },
    {
      "cell_type": "code",
      "source": [
        "a = True\n",
        "b = False\n",
        "resultado = a and ______\n",
        "print(resultado)"
      ],
      "metadata": {
        "id": "4i5pKXDS76wj"
      },
      "execution_count": null,
      "outputs": []
    },
    {
      "cell_type": "markdown",
      "source": [
        "⏩**Implementar un caso de uso:**\n",
        "\n",
        "Implementa un programa en Python que clasifique a los usuarios en dos grupos según su edad y género:\n",
        "\n",
        "* **Grupo A:** Usuarios mayores de edad y hombres.\n",
        "* **Grupo B:** Usuarios que no cumplen con los criterios del Grupo A."
      ],
      "metadata": {
        "id": "obEOjNdg-PJ8"
      }
    },
    {
      "cell_type": "code",
      "source": [],
      "metadata": {
        "id": "p-OcVpQhBnHl"
      },
      "execution_count": null,
      "outputs": []
    },
    {
      "cell_type": "markdown",
      "source": [
        "📕**Referencias bibliográficas:**\n",
        "---\n",
        "\n"
      ],
      "metadata": {
        "id": "4UESeXvH_mrb"
      }
    },
    {
      "cell_type": "markdown",
      "source": [
        "\n",
        "* **Documentación oficial de** https://www.w3schools.com/python/python_booleans.asp\n",
        "\n",
        "* **Ejercicios interactivos sobre operaciones booleanas:** https://www.digitallearning.es/intro-programacion-js/ejercicios-expresiones-operadores.html\n",
        "\n",
        "* **Documentación oficial de Python sobre operadores booleanos:** https://panda.ime.usp.br/aulasPython/static/aulasPython/aula05.html\n",
        "\n",
        "📚**Libros:**\n",
        "\n",
        "* Matthes, E. (2020). Python Crashkurs: Eine Einführung in die Programmierung mit Python 3 (4. Auflage). MITP-Verlag.\n",
        "\n",
        "* Brown, M. C. (2020). Python: The Complete Reference, 4th Edition. McGraw-Hill Education."
      ],
      "metadata": {
        "id": "D6ah7i5J-gnL"
      }
    },
    {
      "cell_type": "code",
      "source": [],
      "metadata": {
        "id": "G_lkp-Wy_oy7"
      },
      "execution_count": null,
      "outputs": []
    }
  ]
}