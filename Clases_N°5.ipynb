{
  "nbformat": 4,
  "nbformat_minor": 0,
  "metadata": {
    "colab": {
      "provenance": [],
      "include_colab_link": true
    },
    "kernelspec": {
      "name": "python3",
      "display_name": "Python 3"
    },
    "language_info": {
      "name": "python"
    }
  },
  "cells": [
    {
      "cell_type": "markdown",
      "metadata": {
        "id": "view-in-github",
        "colab_type": "text"
      },
      "source": [
        "<a href=\"https://colab.research.google.com/github/alessaag/cursoIA_Polygonus/blob/main/Clases_N%C2%B05.ipynb\" target=\"_parent\"><img src=\"https://colab.research.google.com/assets/colab-badge.svg\" alt=\"Open In Colab\"/></a>"
      ]
    },
    {
      "cell_type": "markdown",
      "source": [
        "# **<font color='#FFEB3B'>EJEMPLOS DE APLICACIONES DE FUNCIONES LOGARÍTMICAS Y TRIGONOMÉTRICAS EN LA VIDA REAL</font>**\n",
        "---\n",
        "\n"
      ],
      "metadata": {
        "id": "hGdjJ-JiZI4L"
      }
    },
    {
      "cell_type": "markdown",
      "source": [
        "🎯**Funciones logarítmicas:**\n",
        "\n",
        "    1. Escala de Richter: Medir magnitudes de terremotos.\n",
        "    2. Crecimiento poblacional: A menudo se ajusta a una función logística, que tiene una forma de sigmoidiea. La función logística se puede expresar como una ecuación logarítmica.\n",
        "    3. Farmacología: Estudia el efecto de los medicamentos en el cuerpo, utiliza funciones logarítmicas para modelar la absorción, distribución y eliminación de los medicamentos."
      ],
      "metadata": {
        "id": "4qxsizvCkAfX"
      }
    },
    {
      "cell_type": "markdown",
      "source": [
        "🎯**Funciones trigonométricas:**\n",
        "\n",
        "    1. Navegación: Calcular la posición y la dirección de un barco o avión.\n",
        "    2. Astronomía: Calcular las posiciones de los planetas, estrellas y otros objetos celestes.\n",
        "    3. Ingeniería: Diseño de estructuras, análisis de vibraciones y acústica."
      ],
      "metadata": {
        "id": "mfTJJQlFZ1xi"
      }
    },
    {
      "cell_type": "markdown",
      "source": [
        "# **<font color='#FFEB3B'>\"APLICACIONES DE FUNCIONES LOGARÍTMICAS\"</font>**\n",
        "---\n",
        "\n"
      ],
      "metadata": {
        "id": "lFOj54RJl6Lc"
      }
    },
    {
      "cell_type": "markdown",
      "source": [
        "**1. Cálculo de la magnitud de un terremoto:**\n",
        "\n",
        "La escala de Richter es una escala logarítmica que se utiliza para medir la magnitud de los terremotos. Fue desarrollada en *1935* por el sismólogo estadounidense **Charles Francis Richter.**"
      ],
      "metadata": {
        "id": "XTiHPK95mYrV"
      }
    },
    {
      "cell_type": "markdown",
      "source": [
        "    Funcionamiento:\n",
        "\n",
        "    1. La escala se basa en la amplitud de las ondas sísmicas medidas en un sismograma.\n",
        "    2. La amplitud es la distancia máxima que la tierra se mueve durante un terremoto.\n",
        "    3. La escala es logarítmica, lo que significa que un aumento de un grado en la magnitud representa un aumento de 10 veces en la amplitud de las ondas.\n",
        "    4. La magnitud se calcula utilizando la siguiente ecuación:\n",
        "    \n",
        "    Magnitud = log10(A) - log10(A0) + M\n",
        "\n",
        "    Donde:\n",
        "\n",
        "    A: Es la amplitud de las ondas sísmicas en micrómetros.\n",
        "    A0: Es una amplitud de referencia de 1 micrómetro.\n",
        "    M: Factor constante que depende del tipo de sismógrafo utilizado y la distancia del epicentro."
      ],
      "metadata": {
        "id": "tERop-mCngW7"
      }
    },
    {
      "cell_type": "markdown",
      "source": [
        "**Interpretación:**\n",
        "\n",
        "* Los terremotos con una magnitud inferior a 3.5 generalmente no se sienten.\n",
        "* Los terremotos con una magnitud entre 3.5 y 5.4 pueden causar daños leves.\n",
        "* Los terremotos con una magnitud entre 5.5 y 6.0 pueden causar daños moderados.\n",
        "* Los terremotos con una magnitud superior a 6.0 pueden causar daños severos o incluso destrucción total."
      ],
      "metadata": {
        "id": "ddVpqh_Npj8z"
      }
    },
    {
      "cell_type": "markdown",
      "source": [
        "**Limitaciones:**\n",
        "\n",
        "* La escala de Richter solo mide la amplitud de las ondas sísmicas, no la energía total liberada por un terremoto.\n",
        "* La escala no es válida para terremotos muy pequeños o muy grandes.\n",
        "* La escala puede ser imprecisa para terremotos a grandes distancias del epicentro."
      ],
      "metadata": {
        "id": "XAWkPvYAqDzR"
      }
    },
    {
      "cell_type": "markdown",
      "source": [
        "**Referencias Bibliográficas:**\n",
        "\n",
        "* Libro: \"Charles Richter and the Earthquake Scale\" de Susan Elizabeth Hough (2007)\n",
        "* Artículo: \"The Richter magnitude scale: history, definition, and limitations\" de Bruce A. Bolt (1993)"
      ],
      "metadata": {
        "id": "DTNCwgppqWgs"
      }
    },
    {
      "cell_type": "markdown",
      "source": [
        "**PYTHON**\n",
        "\n",
        "---\n",
        "\n"
      ],
      "metadata": {
        "id": "DUlwsGkSqu3u"
      }
    },
    {
      "cell_type": "code",
      "source": [
        "import numpy as np\n",
        "\n",
        "def magnitud_richter(amplitud):\n",
        "  \"\"\"\n",
        "    Función que calcula la magnitud de un terremoto a partir de la amplitud de\n",
        "    las ondas sísmicas.\n",
        "\n",
        "    Parámetros:\n",
        "    amplitud: Amplitud de las ondas sísmicas (micrómetros).\n",
        "\n",
        "    Retorno:\n",
        "    Magnitud del terremoto.\n",
        "\n",
        "  \"\"\"\n",
        "\n",
        "  log_amplitud = np.log10(amplitud)\n",
        "\n",
        "  return np.log10(amplitud) / 1.73 + 3.98\n",
        "\n",
        "# Amplitud\n",
        "amplitud = np.linspace(1, 10000, 100)  # micrómetros\n",
        "\n",
        "# Magnitud\n",
        "magnitud = magnitud_richter(amplitud)\n",
        "\n",
        "# Graficar\n",
        "import matplotlib.pyplot as plt\n",
        "\n",
        "plt.plot(amplitud, magnitud)\n",
        "plt.xlabel(\"Amplitud de las ondas sísmicas (µm)\")\n",
        "plt.ylabel(\"Magnitud del terremoto\")\n",
        "plt.show()"
      ],
      "metadata": {
        "id": "RSdPXDkbnRn6"
      },
      "execution_count": null,
      "outputs": []
    },
    {
      "cell_type": "markdown",
      "source": [
        "**2. Simulación de la concentración de un fármaco en el cuerpo:**\n",
        "\n",
        "El modelo de eliminación de primer orden asume que el fármaco se elimina del cuerpo a una tasa constante. La tasa de eliminación se expresa como la constante de eliminación (k). La concentración del fármaco en el cuerpo en función del tiempo (t) se calcula mediante la siguiente ecuación:\n",
        "\n",
        "        C(t) = D * exp(-k * t)\n",
        "\n",
        "Donde:\n",
        "\n",
        "*  C(t) es la concentración del fármaco en el tiempo t (miligramos por litro).\n",
        "*  D es la dosis del fármaco (miligramos).\n",
        "*  k es la constante de eliminación (por hora)."
      ],
      "metadata": {
        "id": "juPWZ_kWuWeh"
      }
    },
    {
      "cell_type": "markdown",
      "source": [
        "**PYTHON**\n",
        "\n",
        "\n",
        "---\n",
        "\n"
      ],
      "metadata": {
        "id": "MkWk8KYWvQZv"
      }
    },
    {
      "cell_type": "code",
      "source": [
        "import numpy as np\n",
        "\n",
        "def concentracion_farmaco(t, dosis, k):\n",
        "  \"\"\"\n",
        "  Función que calcula la concentración de un fármaco en el cuerpo en función\n",
        "  del tiempo.\n",
        "\n",
        "  Parámetros:\n",
        "\n",
        "    t: Tiempo (horas).\n",
        "    dosis: Dosis del fármaco (miligramos).\n",
        "    k: Constante de eliminación (por hora).\n",
        "\n",
        "  Retorno:\n",
        "\n",
        "    Concentración del fármaco en el tiempo t (miligramos por litro).\n",
        "\n",
        "  \"\"\"\n",
        "  return dosis * np.exp(-k * t)\n",
        "\n",
        "# Parámetros\n",
        "dosis = 100  # miligramos\n",
        "k = 0.1  # por hora\n",
        "\n",
        "# Tiempo\n",
        "t = np.linspace(0, 10, 100)\n",
        "\n",
        "# Concentración\n",
        "concentracion = concentracion_farmaco(t, dosis, k)\n",
        "\n",
        "# Graficar\n",
        "import matplotlib.pyplot as plt\n",
        "\n",
        "plt.plot(t, concentracion)\n",
        "plt.xlabel(\"Tiempo (horas)\")\n",
        "plt.ylabel(\"Concentración del fármaco (mg/L)\")\n",
        "plt.show()"
      ],
      "metadata": {
        "id": "Vqk_TTgLvF-d"
      },
      "execution_count": null,
      "outputs": []
    },
    {
      "cell_type": "markdown",
      "source": [
        "**Explicación:**\n",
        "\n",
        "* La función concentracion_farmaco calcula la concentración de un fármaco en el cuerpo en función del tiempo utilizando un modelo farmacocinético de eliminación de primer orden.\n",
        "* El código simula la concentración de un fármaco con una dosis de 100 mg y una constante de eliminación de 0.1 h^-1.\n",
        "* La gráfica muestra la concentración del fármaco en el cuerpo durante 10 horas."
      ],
      "metadata": {
        "id": "Ti5LwP9lvruw"
      }
    },
    {
      "cell_type": "markdown",
      "source": [
        "**Resultados:**\n",
        "\n",
        "La gráfica muestra la concentración del fármaco en el cuerpo durante 10 horas. La concentración del fármaco disminuye exponencialmente con el tiempo. La vida media del fármaco, que es el tiempo que tarda la concentración del fármaco en reducirse a la mitad, es de 6.93 horas."
      ],
      "metadata": {
        "id": "GdZn7DDTwWOb"
      }
    },
    {
      "cell_type": "markdown",
      "source": [
        "**Referencias Bibliográficas:**\n",
        "\n",
        "* Libro: Modelos y aplicaciones por Jesús Alberto García-Arieta y Miguel Ángel Valverde-Navarro (2019).\n",
        "* Artículo: Simulación de la concentración de un fármaco en el cuerpo utilizando software de código abierto por A.R. Khan y M.J. Yaqoob (2014)."
      ],
      "metadata": {
        "id": "_4C7Phe-wy3d"
      }
    },
    {
      "cell_type": "markdown",
      "source": [
        "# **<font color='#FFEB3B'>\"APLICACIONES DE FUNCIONES TRIGONOMÉTRICAS\"</font>**"
      ],
      "metadata": {
        "id": "wBitffgQxQYZ"
      }
    },
    {
      "cell_type": "markdown",
      "source": [
        "**3. Cálculo del movimiento del péndulo en Phyton**"
      ],
      "metadata": {
        "id": "Adoln4bKPqwD"
      }
    },
    {
      "cell_type": "markdown",
      "source": [
        "**Explicación:**\n",
        "\n",
        "1. Se definen los parámetros del péndulo: ángulo inicial (30 grados), velocidad inicial (0 rad/s) y longitud del péndulo (1 m).\n",
        "2. Se calcula el tiempo de simulación (10.np.pi segundos)\n",
        "3. Se calcula la posición del péndulo en cada instante de tiempo utilizando la ecuación:\n",
        "\n",
        "        angulo = angulo_inicial * np.cos(tiempo * np.sqrt(9.81/longitud_pendulo))"
      ],
      "metadata": {
        "id": "UwqaNlHlP61q"
      }
    },
    {
      "cell_type": "code",
      "source": [
        "import numpy as np\n",
        "import matplotlib.pyplot as plt\n",
        "\n",
        "# Simular un péndulo\n",
        "angulo_inicial = 30  # grados\n",
        "velocidad_inicial = 0  # rad/s\n",
        "longitud_pendulo = 1  # m\n",
        "\n",
        "# Cálculo del movimiento del péndulo\n",
        "tiempo = np.linspace(0, np.pi, 1000)\n",
        "angulo = angulo_inicial * np.cos(tiempo * np.sqrt(9.81 / longitud_pendulo))\n",
        "\n",
        "# Visualizar la posición del péndulo\n",
        "plt.plot(tiempo, angulo)\n",
        "plt.xlabel(\"Tiempo (s)\")\n",
        "plt.ylabel(\"Angulo (grados)\")\n",
        "plt.show()"
      ],
      "metadata": {
        "id": "glNupJPvO1L1"
      },
      "execution_count": null,
      "outputs": []
    },
    {
      "cell_type": "markdown",
      "source": [
        "**Interpretación:**\n",
        "\n",
        "* La ecuación describe la posición angular del péndulo como una función del timepo.\n",
        "* El péndulo oscilará alrededor de su posición de equilibrio.\n",
        "* La frecuencia de la oscilación depende de la longitud del péndulo.\n",
        "* La amplitud de la oscilación depende del ángulo inicial."
      ],
      "metadata": {
        "id": "g9ZzKlrJSETr"
      }
    },
    {
      "cell_type": "markdown",
      "source": [
        "**Modificaciones:**\n",
        "\n",
        "* Puedes modificar el ángulo inicial, la velocidad inicial y la longitud del péndulo para observar como cambia el movimiento.\n",
        "* Puedes agregar otras variables a la simulación, como la velocidad y la aceleración del péndulo.\n",
        "* Puedes utilizar diferentes estilos de linea y color para la gráfica."
      ],
      "metadata": {
        "id": "LAXT_ksLS4CW"
      }
    },
    {
      "cell_type": "markdown",
      "source": [
        "**Referencias bibliográficas:**\n",
        "\n",
        "Libros:\n",
        "\n",
        "* Marion, J. B., & Thornton, S. T. (1995). Dinámica clásica. Barcelona: Reverté. (Capítulo 12)\n",
        "* Resnick, R., & Halliday, D. (1977). Física. México: CECSA. (Capítulo 15)\n",
        "* Tipler, P. A. (2004). Física para la ciencia y la tecnología. Barcelona: Reverté. (Capítulo 14)\n",
        "\n",
        "Artículos:\n",
        "\n",
        "* Cleland, C. E. (1964). The motion of a pendulum. American Journal of Physics, 32(8), 533-535.\n",
        "* Goldstein, H. (1950). The pendulum. American Journal of Physics, 18(1), 15-20.\n",
        "* Landau, L. D., & Lifshitz, E. M. (1976). Mechanics. Oxford: Butterworth-Heinemann. (Capítulo 7)"
      ],
      "metadata": {
        "id": "HlaAJ9nuTO18"
      }
    }
  ]
}