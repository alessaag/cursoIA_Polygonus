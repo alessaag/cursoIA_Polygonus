{
  "nbformat": 4,
  "nbformat_minor": 0,
  "metadata": {
    "colab": {
      "provenance": [],
      "include_colab_link": true
    },
    "kernelspec": {
      "name": "python3",
      "display_name": "Python 3"
    },
    "language_info": {
      "name": "python"
    }
  },
  "cells": [
    {
      "cell_type": "markdown",
      "metadata": {
        "id": "view-in-github",
        "colab_type": "text"
      },
      "source": [
        "<a href=\"https://colab.research.google.com/github/alessaag/cursoIA_Polygonus/blob/main/Clase_N%C2%B012.ipynb\" target=\"_parent\"><img src=\"https://colab.research.google.com/assets/colab-badge.svg\" alt=\"Open In Colab\"/></a>"
      ]
    },
    {
      "cell_type": "markdown",
      "source": [
        "#⚓**<font color = '#FFCA08'> Probabilidad y Bayes para el análisis de datos en IA**⚓"
      ],
      "metadata": {
        "id": "zbaj12fUbmoi"
      }
    },
    {
      "cell_type": "markdown",
      "source": [
        "## ✅**<font color = '#FFD92F'>Regla de la Suma**\n",
        "\n",
        "Nos permite calcular la probabilidad de que ocurra al menos uno de dos eventos A y B, incluso si no son **`mutuamente excluyentes.`**"
      ],
      "metadata": {
        "id": "LF2b55k6b0Hf"
      }
    },
    {
      "cell_type": "markdown",
      "source": [
        "> `Mutuamente excluyente:` Aquellos que no pueden ocurrir de forma simultánea, osea al mismo tiempo. Cuando ocurre uno elimina la posibilidad de que ocurra el otro.\n",
        "\n"
      ],
      "metadata": {
        "id": "UjnhdEfAJluL"
      }
    },
    {
      "cell_type": "markdown",
      "source": [
        "La fórmula es:\n",
        "\n",
        "    P(A o B) = P(A) + P(B) - P(A y B)"
      ],
      "metadata": {
        "id": "3-_xoszOcfFR"
      }
    },
    {
      "cell_type": "markdown",
      "source": [
        "### **<font color = '#FFED6F'> Ejemplo #1:** </font> Lanzamiento de un dado."
      ],
      "metadata": {
        "id": "xH7Cp6QtcvjF"
      }
    },
    {
      "cell_type": "markdown",
      "source": [
        "⚡**Evento A:** Sacar un número mayor o igual a 4.\n",
        "\n",
        "⚡**Evento B:** Sacar un número par.\n",
        "\n",
        "    P(A): Probabilidad de sacar un número mayor o igual a 4.\n",
        "    P(B): Probabilidad de sacar un número par.\n",
        "    P(A y B): Probabilidad de sacar un número que sea mayor o igual a 4 y par.\n",
        "\n",
        "\n"
      ],
      "metadata": {
        "id": "7Rg26Wqkc-Wl"
      }
    },
    {
      "cell_type": "code",
      "execution_count": 1,
      "metadata": {
        "id": "YrDSYIVWaOlV",
        "outputId": "e5abc923-1ba3-403e-e553-f695d23cbb94",
        "colab": {
          "base_uri": "https://localhost:8080/",
          "height": 522
        }
      },
      "outputs": [
        {
          "output_type": "execute_result",
          "data": {
            "text/html": [
              "<img src=\"https://static.vecteezy.com/system/resources/previews/010/898/286/original/game-cube-dice-png.png\" width=\"500\" height=\"500\"/>"
            ],
            "text/plain": [
              "<IPython.core.display.Image object>"
            ]
          },
          "metadata": {},
          "execution_count": 1
        }
      ],
      "source": [
        "from IPython.display import Image\n",
        "\n",
        "Image(url='https://static.vecteezy.com/system/resources/previews/010/898/286/original/game-cube-dice-png.png', width = 500, height = 500)"
      ]
    },
    {
      "cell_type": "markdown",
      "source": [
        "* `P(A)` = 3/6\n",
        "* `P(B)` = 3/6\n",
        "* `P(A y B)` = 2/6"
      ],
      "metadata": {
        "id": "4Ooe8lI4dwsb"
      }
    },
    {
      "cell_type": "markdown",
      "source": [
        "✅ **<font color = '#FFED6F'>Completar:**\n",
        "\n",
        "**`P(A o B):`** Probabilidad de sacar un número mayor o igual a 4 o un número par = \"...\""
      ],
      "metadata": {
        "id": "PuQRIvbMLegR"
      }
    },
    {
      "cell_type": "markdown",
      "source": [
        "### **<font color = '#FFED6F'>Ejemplo #2:</font>** Predicción de riesgo de una enfermedad."
      ],
      "metadata": {
        "id": "vQ2UqhYCeRNk"
      }
    },
    {
      "cell_type": "markdown",
      "source": [
        "⚡**Evento A:** Un paciente tiene un historial familiar de enfermedad X.\n",
        "\n",
        "⚡**Evento B:** Un paciente tiene un estilo de vida poco saludable."
      ],
      "metadata": {
        "id": "uABIZrcxjiIo"
      }
    },
    {
      "cell_type": "code",
      "source": [
        "from IPython.display import Image\n",
        "\n",
        "Image(url='https://2.bp.blogspot.com/-ufLxkc24plk/V1a8EsvAHDI/AAAAAAAAGIM/1Fe6e61SobIgBgnG8xegu7zKtVVuP4dKwCLcB/s1600/Multiplesenfermedades.jpg', width = 800, height = 500)"
      ],
      "metadata": {
        "id": "ge_Y3r58j6fC",
        "outputId": "0d36adfb-8775-4696-a1f7-2354a8cc0e64",
        "colab": {
          "base_uri": "https://localhost:8080/",
          "height": 522
        }
      },
      "execution_count": 2,
      "outputs": [
        {
          "output_type": "execute_result",
          "data": {
            "text/html": [
              "<img src=\"https://2.bp.blogspot.com/-ufLxkc24plk/V1a8EsvAHDI/AAAAAAAAGIM/1Fe6e61SobIgBgnG8xegu7zKtVVuP4dKwCLcB/s1600/Multiplesenfermedades.jpg\" width=\"800\" height=\"500\"/>"
            ],
            "text/plain": [
              "<IPython.core.display.Image object>"
            ]
          },
          "metadata": {},
          "execution_count": 2
        }
      ]
    },
    {
      "cell_type": "code",
      "source": [
        "# Definimos los eventos\n",
        "evento_a = \"Historial familiar de enfermedad X\"\n",
        "evento_b = \"Estilo de vida poco saludable\"\n",
        "\n",
        "# Probabilidad de desarrollar la enfermedad con historial familiar\n",
        "probabilidad_a = 0.3\n",
        "\n",
        "# Probabilidad de desarrollar la enfermedad con estilo de vida poco saludable\n",
        "probabilidad_b = 0.2\n",
        "\n",
        "# Probabilidad de tener ambos factores de riesgo\n",
        "probabilidad_ab = 0.15\n",
        "\n",
        "# Probabilidad de desarrollar la enfermedad con al menos un factor de riesgo\n",
        "probabilidad_a_o_b = probabilidad_a + probabilidad_b - probabilidad_ab\n",
        "\n",
        "# Imprimimos los resultados\n",
        "print(f\"Probabilidad de {evento_a}: {probabilidad_a}\")\n",
        "print(f\"Probabilidad de {evento_b}: {probabilidad_b}\")\n",
        "print(f\"Probabilidad de tener ambos factores de riesgo: {probabilidad_ab}\")\n",
        "print(f\"Probabilidad de desarrollar la enfermedad con al menos un factor de riesgo: {probabilidad_a_o_b}\")"
      ],
      "metadata": {
        "id": "9FJzjQ8xvGz4",
        "colab": {
          "base_uri": "https://localhost:8080/"
        },
        "outputId": "52082ce2-416d-4b86-8615-610efc38376d"
      },
      "execution_count": null,
      "outputs": [
        {
          "output_type": "stream",
          "name": "stdout",
          "text": [
            "Probabilidad de Historial familiar de enfermedad X: 0.3\n",
            "Probabilidad de Estilo de vida poco saludable: 0.2\n",
            "Probabilidad de tener ambos factores de riesgo: 0.15\n",
            "Probabilidad de desarrollar la enfermedad con al menos un factor de riesgo: 0.35\n"
          ]
        }
      ]
    },
    {
      "cell_type": "markdown",
      "source": [
        "**`P(A o B): 35%`** Probabilidad de que un paciente tenga un historial familiar de enfermedad X o un estilo de vida poco saludable, y que desarrolle la enfermedad.\n",
        "\n"
      ],
      "metadata": {
        "id": "NsJFul6Ezxam"
      }
    },
    {
      "cell_type": "markdown",
      "source": [
        "## ✅ **<font color = '#FFD92F'>Regla del producto**\n",
        "\n",
        "La regla del producto nos permite calcular la probabilidad de que ocurran dos eventos **A** y **B** de forma **`independiente.`**\n"
      ],
      "metadata": {
        "id": "KgmBCxN0wgMI"
      }
    },
    {
      "cell_type": "markdown",
      "source": [
        "> `Eventos independientes:` Dos eventos son independientes cuando los resultados del primer evento no afectan los resultados del segundo evento."
      ],
      "metadata": {
        "id": "xp9rvaKEOiSo"
      }
    },
    {
      "cell_type": "markdown",
      "source": [
        "La formula es:\n",
        "\n",
        "    P(A y B) = P(A) * P(B|A)"
      ],
      "metadata": {
        "id": "HUMd4iqMyE_N"
      }
    },
    {
      "cell_type": "markdown",
      "source": [
        "### **<font color = '#FFED6F'>Ejemplo #1:</font>** Detección de fraude.\n"
      ],
      "metadata": {
        "id": "YWbfDL3AyMwk"
      }
    },
    {
      "cell_type": "markdown",
      "source": [
        "⚡**Evento A:** Un sistema de IA detecta una transacción fraudulenta.\n",
        "\n",
        "⚡**Evento B:** Un sistema de IA bloquea la transacción fraudulenta."
      ],
      "metadata": {
        "id": "9ks6YU2azUHE"
      }
    },
    {
      "cell_type": "code",
      "source": [
        "Image(url='https://img.freepik.com/vector-premium/iconos-transacciones-linea_24877-72259.jpg', width = 500, height = 500)"
      ],
      "metadata": {
        "id": "aSpeVeVU0ZLQ",
        "colab": {
          "base_uri": "https://localhost:8080/",
          "height": 522
        },
        "outputId": "30471deb-5b3e-4714-ad39-b416d4bbc820"
      },
      "execution_count": 3,
      "outputs": [
        {
          "output_type": "execute_result",
          "data": {
            "text/html": [
              "<img src=\"https://img.freepik.com/vector-premium/iconos-transacciones-linea_24877-72259.jpg\" width=\"500\" height=\"500\"/>"
            ],
            "text/plain": [
              "<IPython.core.display.Image object>"
            ]
          },
          "metadata": {},
          "execution_count": 3
        }
      ]
    },
    {
      "cell_type": "markdown",
      "source": [
        "**`P(A):`** Probabilidad de que el sistema detecte una transacción fraudulenta.\n",
        "\n",
        "* Se estima que el sistema tiene una precisión del `95%` para detectar transacciones fraudulentas.\n",
        "\n",
        "**`P(B|A):`** Probabilidad de que el sistema bloquee la transacción fraudulenta, ***`dado que`*** ya ha detectado una transacción fraudulenta.\n",
        "\n",
        "* Se estima que el sistema tiene una precisión del `90%` para bloquear transacciones fraudulentas detectadas."
      ],
      "metadata": {
        "id": "27E5HWwkz2dn"
      }
    },
    {
      "cell_type": "code",
      "source": [
        "# Definimos los eventos\n",
        "evento_a = \"Detección de transacción fraudulenta\"\n",
        "evento_b = \"Bloqueo de transacción fraudulenta\"\n",
        "\n",
        "# Probabilidad de detectar una transacción fraudulenta\n",
        "probabilidad_a = 0.95\n",
        "\n",
        "# Probabilidad de bloquear una transacción fraudulenta detectada\n",
        "probabilidad_b = 0.9\n",
        "\n",
        "# Probabilidad de detectar y bloquear una transacción fraudulenta\n",
        "probabilidad_a_y_b = probabilidad_a * probabilidad_b\n",
        "\n",
        "# Imprimimos los resultados\n",
        "print(f\"Probabilidad de {evento_a}: {probabilidad_a}\")\n",
        "print(f\"Probabilidad de {evento_b}: {probabilidad_b}\")\n",
        "print(f\"Probabilidad de detectar y bloquear una transacción fraudulenta: {probabilidad_a_y_b}\")"
      ],
      "metadata": {
        "colab": {
          "base_uri": "https://localhost:8080/"
        },
        "id": "6Za2JfLyyAOe",
        "outputId": "0425be7a-2c5c-462b-d701-5f3a49352720"
      },
      "execution_count": 4,
      "outputs": [
        {
          "output_type": "stream",
          "name": "stdout",
          "text": [
            "Probabilidad de Detección de transacción fraudulenta: 0.95\n",
            "Probabilidad de Bloqueo de transacción fraudulenta: 0.9\n",
            "Probabilidad de detectar y bloquear una transacción fraudulenta: 0.855\n"
          ]
        }
      ]
    },
    {
      "cell_type": "markdown",
      "source": [
        "### **<font color = '#FFED6F'>Ejemplo #2:</font>** Recomendación de productos.\n"
      ],
      "metadata": {
        "id": "T5fRHXe6wzvu"
      }
    },
    {
      "cell_type": "markdown",
      "source": [
        "⚡**Evento A:** Un sistema de IA recomienda un producto a un usuario.\n",
        "\n",
        "⚡**Evento B:** El usuario compra el producto recomendado."
      ],
      "metadata": {
        "id": "pNbzJkPT2h9T"
      }
    },
    {
      "cell_type": "code",
      "source": [
        "Image(url='https://www.retailactual.com/media/uploads/noticias/recomendaciones-online-ecommerce-retail-actual.jpg', width = 770, height = 465)"
      ],
      "metadata": {
        "id": "ETuKdxE42pQp",
        "colab": {
          "base_uri": "https://localhost:8080/",
          "height": 486
        },
        "outputId": "2f25036f-97a6-40d7-99d1-647acbc632c8"
      },
      "execution_count": null,
      "outputs": [
        {
          "output_type": "execute_result",
          "data": {
            "text/html": [
              "<img src=\"https://www.retailactual.com/media/uploads/noticias/recomendaciones-online-ecommerce-retail-actual.jpg\" width=\"770\" height=\"465\"/>"
            ],
            "text/plain": [
              "<IPython.core.display.Image object>"
            ]
          },
          "metadata": {},
          "execution_count": 6
        }
      ]
    },
    {
      "cell_type": "markdown",
      "source": [
        "**`P(A):`** Probabilidad de que el sistema recomiende un producto al usuario.\n",
        "\n",
        "* Se estima que el sistema tiene una precisión del `90%` para recomendar productos relevantes a los usuarios.\n",
        "\n",
        "**`P(B|A):`** Probabilidad de que el usuario compre el producto recomendado, dado que ya ha recibido la recomendación.\n",
        "\n",
        "* Se estima que el `20%` de los usuarios compran un producto que les ha sido recomendado."
      ],
      "metadata": {
        "id": "HHteTgGX3MWA"
      }
    },
    {
      "cell_type": "code",
      "source": [
        "# Definimos los eventos\n",
        "evento_a = \"Recomendación de producto\"\n",
        "evento_b = \"Compra de producto recomendado\"\n",
        "\n",
        "# Probabilidad de recomendar un producto al usuario\n",
        "probabilidad_a = 0.9\n",
        "\n",
        "# Probabilidad de que el usuario compre un producto recomendado\n",
        "probabilidad_b = 0.2\n",
        "\n",
        "# Probabilidad de recomendar un producto y que el usuario lo compre\n",
        "probabilidad_a_y_b = probabilidad_a * probabilidad_b\n",
        "\n",
        "# Imprimimos los resultados\n",
        "print(f\"Probabilidad de {evento_a}: {probabilidad_a}\")\n",
        "print(f\"Probabilidad de {evento_b}: {probabilidad_b}\")\n",
        "print(f\"Probabilidad de recomendar un producto y que el usuario lo compre: {probabilidad_a_y_b}\")"
      ],
      "metadata": {
        "id": "vJ0Fn4VG466x",
        "colab": {
          "base_uri": "https://localhost:8080/"
        },
        "outputId": "664b7543-dfc9-4ac6-81b9-ead40be9f9ae"
      },
      "execution_count": null,
      "outputs": [
        {
          "output_type": "stream",
          "name": "stdout",
          "text": [
            "Probabilidad de Recomendación de producto: 0.9\n",
            "Probabilidad de Compra de producto recomendado: 0.2\n",
            "Probabilidad de recomendar un producto y que el usuario lo compre: 0.18000000000000002\n"
          ]
        }
      ]
    },
    {
      "cell_type": "markdown",
      "source": [
        "## ✅ **<font color = '#FFD92F'>Aplicación del teorema de Bayes al Cáncer de Mama**"
      ],
      "metadata": {
        "id": "AlfeRN7Fn7rB"
      }
    },
    {
      "cell_type": "code",
      "source": [
        "Image(url='https://www.reproduccionasistida.org/wp-content//estadios-cancer-mama.png', width = 981, height = 417)\n"
      ],
      "metadata": {
        "id": "LIZ07esCPTEO",
        "outputId": "d3ee5bb1-d03a-41d3-b0d5-7d26cea43157",
        "colab": {
          "base_uri": "https://localhost:8080/",
          "height": 439
        }
      },
      "execution_count": 5,
      "outputs": [
        {
          "output_type": "execute_result",
          "data": {
            "text/html": [
              "<img src=\"https://www.reproduccionasistida.org/wp-content//estadios-cancer-mama.png\" width=\"981\" height=\"417\"/>"
            ],
            "text/plain": [
              "<IPython.core.display.Image object>"
            ]
          },
          "metadata": {},
          "execution_count": 5
        }
      ]
    },
    {
      "cell_type": "markdown",
      "source": [
        "⚡**<font color = '#FFED6F'>Introducción:**\n",
        "\n",
        "El teorema de Bayes se puede utilizar para calcular la probabilidad de que una persona tenga cáncer de mama después de observar un resultado positivo en una prueba de detección.\n",
        "\n",
        "**En este ejemplo:**\n",
        "\n",
        "✅**Hipótesis:** La persona tiene cáncer de mama.\n",
        "\n",
        "✅**Evidencia:** La prueba de detección es positiva."
      ],
      "metadata": {
        "id": "tlkvliB6VvkQ"
      }
    },
    {
      "cell_type": "markdown",
      "source": [
        "👣 **<font color = '#FFED6F'>1. Definir variables:**"
      ],
      "metadata": {
        "id": "DgSMFlHYW_xx"
      }
    },
    {
      "cell_type": "markdown",
      "source": [
        "➖ **`P(Cáncer):`** Probabilidad previa de que la persona tenga cáncer de mama.\n",
        "\n",
        "➖ **`P(Positivo|Cáncer):`** Probabilidad de que la prueba de detección sea positiva si la persona tiene cáncer de mama (sensibilidad).\n",
        "\n",
        "➖ **`P(Positivo|No Cáncer):`** Probabilidad de que la prueba de detección sea positiva si la persona no tiene cáncer de mama (falsa alarma).\n",
        "\n",
        "➖ **`P(Positivo):`** Probabilidad de que la prueba de detección sea positiva."
      ],
      "metadata": {
        "id": "ZJ3GUzCqXT2I"
      }
    },
    {
      "cell_type": "markdown",
      "source": [
        "📈 **<font color = '#FFED6F'>2. Obtener las probabilidades**\n",
        "\n",
        "➖ **`P(Cáncer):`** Se puede obtener de la incidencia del cáncer de mama en la población.\n",
        "\n",
        "➖ **`P(Positivo|Cáncer):`** Se puede obtener de estudios que evalúan la sensibilidad de la prueba de detección.\n",
        "\n",
        "➖ **`P(Positivo|No Cáncer):`** Se puede obtener de estudios que evalúan la tasa de falsas alarmas de la prueba de detección.\n",
        "\n",
        "➖ **`P(Positivo):`** Se puede calcular sumando las probabilidades de que la prueba sea positiva para cada caso:\n",
        "\n"
      ],
      "metadata": {
        "id": "jUh46O3vYt0g"
      }
    },
    {
      "cell_type": "markdown",
      "source": [
        "    \n",
        "    P(Positivo) = P(Cáncer) * P(Positivo|Cáncer) + P(No Cáncer) * P(Positivo|No Cáncer)"
      ],
      "metadata": {
        "id": "fa1vCsb0aJqz"
      }
    },
    {
      "cell_type": "code",
      "source": [
        "Image(url='https://physicsworld.com/wp-content/uploads/2022/08/OA-US.jpg', width = 900, height = 600)"
      ],
      "metadata": {
        "id": "3ueHHoZfa0IA",
        "outputId": "e0bc4f07-1096-4f06-9a34-d33eeff0861a",
        "colab": {
          "base_uri": "https://localhost:8080/",
          "height": 622
        }
      },
      "execution_count": 6,
      "outputs": [
        {
          "output_type": "execute_result",
          "data": {
            "text/html": [
              "<img src=\"https://physicsworld.com/wp-content/uploads/2022/08/OA-US.jpg\" width=\"900\" height=\"600\"/>"
            ],
            "text/plain": [
              "<IPython.core.display.Image object>"
            ]
          },
          "metadata": {},
          "execution_count": 6
        }
      ]
    },
    {
      "cell_type": "markdown",
      "source": [
        "👀 **<font color = '#FFED6F'> 3. Calcular la probabilidad posterior:**"
      ],
      "metadata": {
        "id": "QyzFnTb7bZPx"
      }
    },
    {
      "cell_type": "markdown",
      "source": [
        "Se utiliza la fórmula del teorema de Bayes,"
      ],
      "metadata": {
        "id": "2eU2yB8LbsPA"
      }
    },
    {
      "cell_type": "markdown",
      "source": [
        "    P(Cáncer|Positivo) = P(Cáncer) * P(Positivo|Cáncer) / P(Positivo)\n",
        "\n"
      ],
      "metadata": {
        "id": "i1N6O3UvboF7"
      }
    },
    {
      "cell_type": "markdown",
      "source": [
        "🔅 **<font color = '#FFED6F'>4.  Interpretación del resultado**\n",
        "\n",
        "* La probabilidad posterior ```P(Cáncer|Positivo)``` representa la probabilidad de que la persona tenga cáncer de mama después de observar un resultado positivo en la prueba de detección.\n",
        "\n",
        "* Un valor alto de ```P(Cáncer|Positivo)``` indica que es más probable que la persona tenga cáncer de mama.\n",
        "\n",
        "* Sin embargo, es importante tener en cuenta que la prueba de detección no es perfecta y que puede haber falsos positivos y falsos negativos."
      ],
      "metadata": {
        "id": "CwA6eBH8aiSx"
      }
    },
    {
      "cell_type": "markdown",
      "source": [
        "💻 **<font color = '#7FD2FF'> EJEMPLO EN PYTHON** 💻"
      ],
      "metadata": {
        "id": "oNn2nEZrcUgz"
      }
    },
    {
      "cell_type": "code",
      "source": [
        "# Definir las variables\n",
        "p_cancer = 0.01 # Incidencia del cáncer de mama (1%)\n",
        "p_positivo_cancer = 0.95 # Sensibilidad de la prueba (95%)\n",
        "p_positivo_no_cancer = 0.05 # Tasa de falsas alarmas (5%)\n",
        "\n",
        "# Calcular la probabilidad marginal de un resultado positivo\n",
        "p_positivo = (p_cancer * p_positivo_cancer) + ((1 - p_cancer) * p_positivo_no_cancer)\n",
        "\n",
        "# Calcular la probabilidad posterior\n",
        "p_cancer_positivo = (p_cancer * p_positivo_cancer) / p_positivo\n",
        "\n",
        "# Imprimir el resultado\n",
        "print(\"Probabilidad de cáncer de mama después de un resultado positivo:\", p_cancer_positivo)\n"
      ],
      "metadata": {
        "id": "Ijxttr2qVea-"
      },
      "execution_count": null,
      "outputs": []
    },
    {
      "cell_type": "markdown",
      "source": [
        "**En este ejemplo:**\n",
        "\n",
        "* La probabilidad de que la persona tenga cáncer de mama después de un resultado positivo en la prueba es del ```16.1%```.\n",
        "\n",
        "* Es importante recordar que este es solo un ejemplo y que la probabilidad real puede variar dependiendo del caso concreto."
      ],
      "metadata": {
        "id": "trTCpbrzdSdr"
      }
    },
    {
      "cell_type": "markdown",
      "source": [
        "## ⛳ **<font color = '#FFD92F'>Ejercicio de repaso (Teorema de Bayes)** ⛳"
      ],
      "metadata": {
        "id": "eGxVOan-fAMk"
      }
    },
    {
      "cell_type": "markdown",
      "source": [
        "**<font color = '#FFED6F'>Situación:**\n",
        "\n",
        "Un agricultor tiene un huerto con dos tipos de plantas: ```tomates y pimientos```. El ```70%``` de las plantas son tomates y el ```30%``` son pimientos.\n",
        "\n",
        "El agricultor observa una planta al azar y ve que tiene flores amarillas. Las flores amarillas son un rasgo que se presenta en el ```80%``` de las plantas de tomate y en el ```20%``` de las plantas de pimiento."
      ],
      "metadata": {
        "id": "fuZg2PixfURY"
      }
    },
    {
      "cell_type": "code",
      "source": [
        "Image(url='https://www.verdeesvida.es/inc/timthumb.php?src=/files/reportage/18032018193138_Pimiento%20tomate%20OHF.jpg&w=800', width = 400, height = 300)"
      ],
      "metadata": {
        "id": "EMAqrVhreYFD",
        "outputId": "83179a90-701f-4ea2-f000-f937374ddcc0",
        "colab": {
          "base_uri": "https://localhost:8080/",
          "height": 322
        }
      },
      "execution_count": 8,
      "outputs": [
        {
          "output_type": "execute_result",
          "data": {
            "text/html": [
              "<img src=\"https://www.verdeesvida.es/inc/timthumb.php?src=/files/reportage/18032018193138_Pimiento%20tomate%20OHF.jpg&w=800\" width=\"400\" height=\"300\"/>"
            ],
            "text/plain": [
              "<IPython.core.display.Image object>"
            ]
          },
          "metadata": {},
          "execution_count": 8
        }
      ]
    },
    {
      "cell_type": "markdown",
      "source": [
        "**Objetivo:**\n",
        "\n",
        "Calcular la probabilidad de que la planta observada por el agricultor sea un tomate, utilizando el teorema de Bayes."
      ],
      "metadata": {
        "id": "xnDeGMWugx3l"
      }
    },
    {
      "cell_type": "markdown",
      "source": [
        "👣 **Pasos**\n",
        "\n",
        "**<font color = '#FFED6F'>1. Definir las variables:**\n",
        "\n",
        "* ```H1:``` La planta es un tomate.\n",
        "* ```H2:``` La planta es un pimiento.\n",
        "* ```E:``` La planta tiene flores amarillas."
      ],
      "metadata": {
        "id": "mpUhwTDDg4Nr"
      }
    },
    {
      "cell_type": "markdown",
      "source": [
        "**<font color = '#FFED6F'>2. Obtener las probabilidades:**\n",
        "\n",
        "* ```P(H1): 0.7``` (Probabilidad previa de que la planta sea un tomate).\n",
        "\n",
        "* ```P(H2): 0.3``` (Probabilidad previa de que la planta sea un pimiento).\n",
        "\n",
        "* ```P(E|H1): 0.8``` (Probabilidad de que la planta tenga flores amarillas si es un tomate).\n",
        "\n",
        "* ```P(E|H2): 0.2``` (Probabilidad de que la planta tenga flores amarillas si es un pimiento)."
      ],
      "metadata": {
        "id": "Sp70UNJ0hWUQ"
      }
    },
    {
      "cell_type": "markdown",
      "source": [
        "**<font color = '#FFED6F'>3. Calcular la probabilidad posterior:**\n",
        "\n",
        "Utilizamos la fórmula del teorema de Bayes para calcular la probabilidad de que la planta sea un tomate dado que tiene flores amarillas:\n",
        "\n",
        "    P(H1|E) = P(H1) * P(E|H1) / (P(H1) * P(E|H1) + P(H2) * P(E|H2))"
      ],
      "metadata": {
        "id": "k4JRLWVFiNwv"
      }
    },
    {
      "cell_type": "code",
      "source": [
        "# Definir las variables\n",
        "p_h1 = 0.7\n",
        "p_h2 = 0.3\n",
        "p_e_h1 = 0.8\n",
        "p_e_h2 = 0.2\n",
        "\n",
        "# Calcular la probabilidad marginal de flores amarillas\n",
        "p_e = (p_h1 * p_e_h1) + (p_h2 * p_e_h2)\n",
        "\n",
        "# Calcular la probabilidad posterior\n",
        "p_h1_e = (p_h1 * p_e_h1) / p_e\n",
        "\n",
        "# Imprimir el resultado\n",
        "print(\"Probabilidad de que la planta sea un tomate:\", p_h1_e)\n"
      ],
      "metadata": {
        "id": "nrTFcMsEeX0_",
        "outputId": "6b0c605a-ffdb-4d67-f83c-16072d17715d",
        "colab": {
          "base_uri": "https://localhost:8080/"
        }
      },
      "execution_count": 9,
      "outputs": [
        {
          "output_type": "stream",
          "name": "stdout",
          "text": [
            "Probabilidad de que la planta sea un tomate: 0.903225806451613\n"
          ]
        }
      ]
    },
    {
      "cell_type": "markdown",
      "source": [
        "🤔 **<font color = '#FFED6F'>5. Interpretación de resultados:**\n",
        "\n",
        "* La probabilidad de que la planta observada por el agricultor sea un tomate, dado que tiene flores amarillas, es del ```90.3 %.```\n",
        "\n",
        "\n",
        "* ¿Qué puedes inferir o analizar a partir del resultado anterior? ```Existe una alta probabilidad de que al tomar una de las plantas de flores amarillas, esta se trate de una planta de tomates```\n",
        "\n"
      ],
      "metadata": {
        "id": "IuBmdVCYiiPJ"
      }
    },
    {
      "cell_type": "code",
      "source": [],
      "metadata": {
        "id": "RhKZ73wWMrxB"
      },
      "execution_count": null,
      "outputs": []
    }
  ]
}