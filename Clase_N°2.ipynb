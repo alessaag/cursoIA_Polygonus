{
  "nbformat": 4,
  "nbformat_minor": 0,
  "metadata": {
    "colab": {
      "provenance": [],
      "include_colab_link": true
    },
    "kernelspec": {
      "name": "python3",
      "display_name": "Python 3"
    },
    "language_info": {
      "name": "python"
    }
  },
  "cells": [
    {
      "cell_type": "markdown",
      "metadata": {
        "id": "view-in-github",
        "colab_type": "text"
      },
      "source": [
        "<a href=\"https://colab.research.google.com/github/alessaag/cursoIA_Polygonus/blob/main/Clase_N%C2%B02.ipynb\" target=\"_parent\"><img src=\"https://colab.research.google.com/assets/colab-badge.svg\" alt=\"Open In Colab\"/></a>"
      ]
    },
    {
      "cell_type": "markdown",
      "source": [
        "# ⚛**VARIABLES MATEMÁTICAS Y DE LÓGICA EN IA**⚛\n",
        "---\n",
        "\n"
      ],
      "metadata": {
        "id": "wLRQO6izjPod"
      }
    },
    {
      "cell_type": "markdown",
      "source": [
        "✅ **DEFINICIÓN DE VARIABLE**\n",
        "\n",
        "1.  **Nombre:** Es la etiqueta que se le da a la variable para identificarla.\n",
        "2.  **Tipo de dato:** Es el tipo de información que la variable puede almacenar.\n",
        "3.  **Valor:** Es el contenido actual de la variable.\n",
        "\n",
        "---\n",
        "\n"
      ],
      "metadata": {
        "id": "Wk1_Qa5UVfgz"
      }
    },
    {
      "cell_type": "code",
      "source": [
        "nombre = 'Juan'\n",
        "edad = '25'\n",
        "estatura = '1.75'\n",
        "\n",
        "#Las variables se declaran con el nombre y valor\n",
        "#El tipo de dato se infiere automáticamente de Python\n",
        "\n",
        "print(nombre) #Imprime 'Juan'\n",
        "print(edad) #Imprime '25'\n",
        "print(estatura) #imprime '1.75'"
      ],
      "metadata": {
        "id": "OGOsDrC7WClr"
      },
      "execution_count": null,
      "outputs": []
    },
    {
      "cell_type": "markdown",
      "source": [
        "# 🔢**TIPOS DE VARIABLES** 🔢\n",
        "\n",
        "---\n",
        "\n"
      ],
      "metadata": {
        "id": "cxB6ZaHTZTvI"
      }
    },
    {
      "cell_type": "markdown",
      "source": [
        "### **1.  Enteras (int):** para almacenar números enteros, sin decimales.\n",
        "\n"
      ],
      "metadata": {
        "id": "jAeUdnY-Zb1N"
      }
    },
    {
      "cell_type": "code",
      "source": [
        "edad = 25"
      ],
      "metadata": {
        "id": "vgvscbFrZszj"
      },
      "execution_count": null,
      "outputs": []
    },
    {
      "cell_type": "code",
      "source": [
        "Temperatura_Tokio = -4"
      ],
      "metadata": {
        "id": "DrCs1TnSaNZM"
      },
      "execution_count": null,
      "outputs": []
    },
    {
      "cell_type": "markdown",
      "source": [
        "### **2.  Flotantes (float):** para almacenar números decimales.\n"
      ],
      "metadata": {
        "id": "hzqCTeTxZ-hd"
      }
    },
    {
      "cell_type": "code",
      "source": [
        "precio = 19.99"
      ],
      "metadata": {
        "id": "IRiJ1WkSZw5D"
      },
      "execution_count": null,
      "outputs": []
    },
    {
      "cell_type": "code",
      "source": [
        "altura = 1.85"
      ],
      "metadata": {
        "id": "4HpSkpe6Z6vr"
      },
      "execution_count": null,
      "outputs": []
    },
    {
      "cell_type": "markdown",
      "source": [
        "### **3.  Booleanos (bool):** para representar valores de verdad, es decir, verdadero (true) o falso (false)."
      ],
      "metadata": {
        "id": "wKNcmEGWaWvb"
      }
    },
    {
      "cell_type": "code",
      "source": [
        "es_mayor_de_edad = True"
      ],
      "metadata": {
        "id": "KlSTBc80aUT6"
      },
      "execution_count": null,
      "outputs": []
    },
    {
      "cell_type": "code",
      "source": [
        "tiene_descuento = False"
      ],
      "metadata": {
        "id": "auudavyharCs"
      },
      "execution_count": null,
      "outputs": []
    },
    {
      "cell_type": "markdown",
      "source": [
        "### **4. Cadena de caracteres (string):** para almacenar texto."
      ],
      "metadata": {
        "id": "El9fN-68ayJS"
      }
    },
    {
      "cell_type": "code",
      "source": [
        "nombre = 'Juan'"
      ],
      "metadata": {
        "id": "_T1P5c9zbEY7"
      },
      "execution_count": null,
      "outputs": []
    },
    {
      "cell_type": "code",
      "source": [
        "mensaje = '¡Bienvenidos al curso Matemáticas Básicas para IA!'"
      ],
      "metadata": {
        "id": "oLhjmV2VbG-Q"
      },
      "execution_count": null,
      "outputs": []
    },
    {
      "cell_type": "code",
      "source": [
        "print(nombre)\n",
        "print(mensaje)"
      ],
      "metadata": {
        "id": "-ANZeBPDbPAp"
      },
      "execution_count": null,
      "outputs": []
    },
    {
      "cell_type": "markdown",
      "source": [
        "### **5. Listas (list):** Son estructuras de datos que pueden contener múltiples elementos de diferentes tipos."
      ],
      "metadata": {
        "id": "gt6ztQf1bY1z"
      }
    },
    {
      "cell_type": "code",
      "source": [
        "numeros = [1, 2, 3, 4, 5]"
      ],
      "metadata": {
        "id": "2Czy5ZFybm0h"
      },
      "execution_count": null,
      "outputs": []
    },
    {
      "cell_type": "code",
      "source": [
        "nombres = [\"Juan\", \"María\", \"Pedro\"]"
      ],
      "metadata": {
        "id": "Ehm2VeBRbtSD"
      },
      "execution_count": null,
      "outputs": []
    },
    {
      "cell_type": "code",
      "source": [
        "mi_lista = [\"a\", \"b\", \"c\"]\n",
        "\n",
        "# Accede al primer elemento (índice 0)\n",
        "primer_elemento = mi_lista[0]\n",
        "\n",
        "# Imprime \"a\"\n",
        "print(primer_elemento)"
      ],
      "metadata": {
        "id": "xyl7j9JolrZ6"
      },
      "execution_count": null,
      "outputs": []
    },
    {
      "cell_type": "markdown",
      "source": [
        "# 🔥 **OPERACIONES MATEMÁTICAS BÁSICAS (EJEMPLOS Y APLICACIONES)** 🔥"
      ],
      "metadata": {
        "id": "94eLzOPCmyOC"
      }
    },
    {
      "cell_type": "markdown",
      "source": [
        "\n",
        "✅ Suma(+)\n",
        "\n",
        "✅ Resta (-)\n",
        "\n",
        "✅ Multiplicación (*)\n",
        "\n",
        "✅ Division (/)\n",
        "\n",
        "✅ Potenciación (**)\n",
        "\n",
        "✅ Radicación (sqrt)\n",
        "\n"
      ],
      "metadata": {
        "id": "P_tWh6U5b7HF"
      }
    },
    {
      "cell_type": "markdown",
      "source": [
        "### **EJEMPLO 1:** Calcular el volumen de un cubo 🧊\n",
        "\n",
        "Entrada:\n",
        "* Lado del cubo: 3\n",
        "\n",
        "Salida:\n",
        "* Volumen del cubo: 27"
      ],
      "metadata": {
        "id": "Vk1ODpbEcYUn"
      }
    },
    {
      "cell_type": "code",
      "source": [
        "from IPython.display import Image\n",
        "\n",
        "Image(url='https://qph.cf2.quoracdn.net/main-qimg-7338a53e735d120fc6297f2ca24a8017-lq', width = 600, height = 500)"
      ],
      "metadata": {
        "id": "Npp3erXjZtpA"
      },
      "execution_count": null,
      "outputs": []
    },
    {
      "cell_type": "code",
      "source": [
        "lado = 3\n",
        "volumen = lado**3\n",
        "print(\"El volumen del cubo es:\", volumen)"
      ],
      "metadata": {
        "id": "kEDgtx4Mcrb_"
      },
      "execution_count": null,
      "outputs": []
    },
    {
      "cell_type": "markdown",
      "source": [
        "### **EJEMPLO 2:** Calcular la temperatura en Fahrenheit a partir de la temperatura en Celsius. 🥵🥶\n",
        "\n",
        "Entrada:\n",
        "* Temperatura en Celsius: 20\n",
        "\n",
        "Salida:\n",
        "* Temperatura en Fahrenheit: 68"
      ],
      "metadata": {
        "id": "IFVITOU1c_4E"
      }
    },
    {
      "cell_type": "code",
      "source": [
        "celsius = 20\n",
        "fahrenheit = (celsius*9/5)+32\n",
        "print(\"La temperatura en Fahrenheit es:\", fahrenheit)"
      ],
      "metadata": {
        "id": "WkyXLtBhdVow"
      },
      "execution_count": null,
      "outputs": []
    },
    {
      "cell_type": "markdown",
      "source": [
        "# **EJERCICIOS DE PRÁCTICA** ⛳"
      ],
      "metadata": {
        "id": "AWJfNn7_n1jV"
      }
    },
    {
      "cell_type": "markdown",
      "source": [
        "✅ **Determinar el área de un triángulo a partir de su base y altura.**\n",
        "\n",
        "Entrada:\n",
        "* Base: 10\n",
        "* Altura: 8\n",
        "\n",
        "Salida:\n",
        "* Area: 40\n",
        "\n",
        "🔎***PISTA:*** *El área de un triángulo se determina multiplicando (base x altura) dividido entre dos.*"
      ],
      "metadata": {
        "id": "8B1kQ0VUeMx3"
      }
    },
    {
      "cell_type": "markdown",
      "source": [
        "✅**Calcular el IMC (Índice de Masa Corporal)**\n",
        "\n",
        "Entrada:\n",
        "\n",
        "* Peso: 70\n",
        "* Altura: 1.75\n",
        "\n",
        "Salida:\n",
        "\n",
        "* IMC: 22.86\n",
        "\n",
        "🔎***PISTA:*** *El índice de masa corporal (IMC) se calcula dividiendo el peso en kilogramos por el cuadrado de la altura en metros.*\n",
        "\n",
        "**Interpretación de los resultados:**\n",
        "\n",
        "▶ **Menos de 18.5:** Bajo peso\n",
        "\n",
        "▶ **18.5 - 24.9:** Peso normal\n",
        "\n",
        "▶ **25.0 - 29.9:** Sobrepeso\n",
        "\n",
        "▶ **30.0 o más:** Obesidad\n",
        "\n"
      ],
      "metadata": {
        "id": "B-8RTvP1owvC"
      }
    }
  ]
}