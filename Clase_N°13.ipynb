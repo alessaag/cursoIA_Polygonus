{
  "nbformat": 4,
  "nbformat_minor": 0,
  "metadata": {
    "colab": {
      "provenance": [],
      "include_colab_link": true
    },
    "kernelspec": {
      "name": "python3",
      "display_name": "Python 3"
    },
    "language_info": {
      "name": "python"
    }
  },
  "cells": [
    {
      "cell_type": "markdown",
      "metadata": {
        "id": "view-in-github",
        "colab_type": "text"
      },
      "source": [
        "<a href=\"https://colab.research.google.com/github/alessaag/cursoIA_Polygonus/blob/main/Clase_N%C2%B013.ipynb\" target=\"_parent\"><img src=\"https://colab.research.google.com/assets/colab-badge.svg\" alt=\"Open In Colab\"/></a>"
      ]
    },
    {
      "cell_type": "markdown",
      "source": [
        "# 💡**<font color = '#FCB11C'>MEDIDAS DE TENDENCIA CENTRAL (MTC)**</font>💡"
      ],
      "metadata": {
        "id": "v_6RZ7Dgw1KZ"
      }
    },
    {
      "cell_type": "markdown",
      "source": [
        "## ✅ **<font color = '#F4DE3A'>Media**"
      ],
      "metadata": {
        "id": "tJK20d6AxUlS"
      }
    },
    {
      "cell_type": "markdown",
      "source": [
        "\n",
        "Es el promedio de un conjunto de datos. Se calcula sumando todos los valores y dividiendo por el número de valores. La media nos da una idea del **`\"centro\"`** de la distribución de datos."
      ],
      "metadata": {
        "id": "8WRBg1jM9Eq3"
      }
    },
    {
      "cell_type": "markdown",
      "source": [
        "**<font color = '#F4DE3A'>Ecuación:**"
      ],
      "metadata": {
        "id": "VgkGZyvfx0oA"
      }
    },
    {
      "cell_type": "markdown",
      "source": [
        "    Media = Σx / n"
      ],
      "metadata": {
        "id": "4MvK0fmyx5CP"
      }
    },
    {
      "cell_type": "markdown",
      "source": [
        "> **Donde:**"
      ],
      "metadata": {
        "id": "v6HCLJ5hx-Va"
      }
    },
    {
      "cell_type": "markdown",
      "source": [
        "* Σx: Suma de todos los valores.\n",
        "\n",
        "* n: Número de valores."
      ],
      "metadata": {
        "id": "KJ6R7hggyI8e"
      }
    },
    {
      "cell_type": "markdown",
      "source": [
        "**<font color = '#F4DE3A'>Ejemplo:**"
      ],
      "metadata": {
        "id": "y4gRWbEGyRVA"
      }
    },
    {
      "cell_type": "markdown",
      "source": [
        "Calcular la media del conjunto de datos {1, 2, 3, 4, 5}."
      ],
      "metadata": {
        "id": "32W7jRqWyUgP"
      }
    },
    {
      "cell_type": "markdown",
      "source": [
        "    Media = (1 + 2 + 3 + 4 + 5) / 5 = 3"
      ],
      "metadata": {
        "id": "IPwaQbvNyYCG"
      }
    },
    {
      "cell_type": "markdown",
      "source": [
        "⭐ **<font color = '#F4DE3A'> Resumen:**\n",
        "\n",
        "La media aritmética es una medida de tendencia central simple y fácil de calcular, pero es importante tener en cuenta sus limitaciones. Puede ser **`susceptible a valores atípicos`**, **`no siempre ser representativa de la distribución de datos`** y **`no ser robusta frente a errores en la medición.`**"
      ],
      "metadata": {
        "id": "TII477rNzoVZ"
      }
    },
    {
      "cell_type": "markdown",
      "source": [
        "## ✅**<font color = '#A2CF49'> Mediana**"
      ],
      "metadata": {
        "id": "7QBji4M4xcQq"
      }
    },
    {
      "cell_type": "markdown",
      "source": [
        "Es el valor que divide al conjunto de datos en dos mitades iguales. La mediana no se ve afectada por valores atípicos (valores muy altos o muy bajos)."
      ],
      "metadata": {
        "id": "D3ME1XlfyqF2"
      }
    },
    {
      "cell_type": "markdown",
      "source": [
        "**<font color = '#A2CF49'>Cálculo:** </font>\n",
        "\n",
        "1. Ordenar los valores de menor a mayor.\n",
        "2. Si el número de valores es impar, la mediana es el valor central.\n",
        "3. Si el número de valores es par, la mediana es la media de los dos valores centrales."
      ],
      "metadata": {
        "id": "4F8GHdr31C-I"
      }
    },
    {
      "cell_type": "markdown",
      "source": [
        "> **<font color = '#A2CF49'>Ejemplo 1:</font> Cuando el conjunto de datos es impar**\n",
        "\n",
        "Calcular la mediana de los siguientes datos: {11, 6, 7, 7, 4.}\n"
      ],
      "metadata": {
        "id": "CcrBAEpx1Il5"
      }
    },
    {
      "cell_type": "markdown",
      "source": [
        "Ordenamos los datos de menor a mayor: ```4, 6, 7, 7, 11.```"
      ],
      "metadata": {
        "id": "HcInyJu17tkH"
      }
    },
    {
      "cell_type": "markdown",
      "source": [
        "**<font color = '#A2CF49'>Ejemplo 2:</font> ¿Y si la cantidad de datos es un número par?**"
      ],
      "metadata": {
        "id": "ELjdH0PX1IiV"
      }
    },
    {
      "cell_type": "markdown",
      "source": [
        "En ese caso, ***la mediana es la media entre los dos valores centrales***.\n",
        "\n",
        "Calcular la mediana de los siguientes datos: 3, 6, 7, 9, 4, 4."
      ],
      "metadata": {
        "id": "dO6ddeYL8PHP"
      }
    },
    {
      "cell_type": "markdown",
      "source": [
        "💡**<font color = '#A2CF49'>Resumen:**\n",
        "\n",
        "La mediana es una medida de tendencia central robusta y fácil de calcular, pero es importante tener en cuenta sus limitaciones. No utiliza toda la información disponible en un conjunto de datos y puede ser menos precisa que la media aritmética en algunos casos."
      ],
      "metadata": {
        "id": "R8k232Va1Ie1"
      }
    },
    {
      "cell_type": "markdown",
      "source": [
        "## ✅ **<font color = '#97E9D5'> Moda**"
      ],
      "metadata": {
        "id": "ydrvPKw6xhaJ"
      }
    },
    {
      "cell_type": "markdown",
      "source": [
        "Es el **`valor que aparece con mayor frecuencia`** en un conjunto de datos. La moda nos indica el valor más \"común\" en la distribución."
      ],
      "metadata": {
        "id": "WvVQfJlw9KBw"
      }
    },
    {
      "cell_type": "markdown",
      "source": [
        "**<font color = '#97E9D5'>Cálculo:**\n",
        "\n",
        "* Contar la frecuencia de cada valor.\n",
        "* El valor con mayor frecuencia es la moda."
      ],
      "metadata": {
        "id": "07ILinZ99N4x"
      }
    },
    {
      "cell_type": "markdown",
      "source": [
        "**<font color = '#97E9D5'>Ejemplo:**\n",
        "\n",
        "\n",
        "Calcular la moda del conjunto de datos {1, 2, 2, 3, 4, 5}.\n",
        "\n",
        "Frecuencias:\n",
        "\n",
        "```1:``` 1\n",
        "\n",
        "```2:``` 2\n",
        "\n",
        "```3:``` 1\n",
        "\n",
        "```4:``` 1\n",
        "\n",
        "```5:``` 1\n",
        "\n",
        "La moda es el valor con mayor frecuencia: ```2```."
      ],
      "metadata": {
        "id": "Q5XsijQd9be9"
      }
    },
    {
      "cell_type": "markdown",
      "source": [
        "# ⌛**<font color = '#AD84C6'>Ejercicios aplicados en Python**⌛"
      ],
      "metadata": {
        "id": "yr5exPq4-FEh"
      }
    },
    {
      "cell_type": "markdown",
      "source": [
        "**<font color = '#FCCDE5'>Ejercicio 1.**"
      ],
      "metadata": {
        "id": "wjCyil94C2b_"
      }
    },
    {
      "cell_type": "code",
      "source": [
        "def calcular_medidas_tendencia_central(datos):\n",
        "\n",
        "  media = sum(datos) / len(datos)\n",
        "  mediana = sorted(datos)[len(datos) // 2]\n",
        "  moda = max(set(datos), key=datos.count)\n",
        "\n",
        "  return {\n",
        "    \"media\": media,\n",
        "    \"mediana\": mediana,\n",
        "    \"moda\": moda,\n",
        "  }\n",
        "\n",
        "\n",
        "# Ejemplo de uso\n",
        "\n",
        "datos = [1, 2, 3, 4, 5]\n",
        "medidas_tendencia_central = calcular_medidas_tendencia_central(datos)\n",
        "\n",
        "print(f\"Media: {medidas_tendencia_central['media']}\")\n",
        "print(f\"Mediana: {medidas_tendencia_central['mediana']}\")\n",
        "print(f\"Moda: {medidas_tendencia_central['moda']}\")\n"
      ],
      "metadata": {
        "id": "3ZHDqsYP_XNV"
      },
      "execution_count": null,
      "outputs": []
    },
    {
      "cell_type": "markdown",
      "source": [
        "**<font color = '#FCCDE5'>Ejercicio 2.**"
      ],
      "metadata": {
        "id": "0QtVI2dTC9Fz"
      }
    },
    {
      "cell_type": "code",
      "source": [
        "# Calificaciones de un examen\n",
        "\n",
        "calificaciones = [10, 8, 7, 9, 5, 6, 10, 9, 10]\n",
        "\n",
        "# Calcular la media, mediana y moda de las calificaciones\n",
        "def calcular_medidas_tendencia_central(calificaciones):\n",
        "\n",
        "  media = sum(calificaciones) / len(calificaciones)\n",
        "  mediana = sorted(calificaciones)[len(calificaciones) // 2]\n",
        "  moda = max(set(calificaciones), key=calificaciones.count)\n",
        "\n",
        "  return {\n",
        "    \"media\": media,\n",
        "    \"mediana\": mediana,\n",
        "    \"moda\": moda,\n",
        "  }\n",
        "\n",
        "\n",
        "# Ejemplo de uso\n",
        "\n",
        "\n",
        "medidas_tendencia_central = calcular_medidas_tendencia_central(calificaciones)\n",
        "\n",
        "print(f\"Media: {medidas_tendencia_central['media']}\")\n",
        "print(f\"Mediana: {medidas_tendencia_central['mediana']}\")\n",
        "print(f\"Moda: {medidas_tendencia_central['moda']}\")"
      ],
      "metadata": {
        "id": "YBOkEBvtAGSB",
        "outputId": "63ec3efe-ff6e-4eb2-b391-4afc8bc2f713",
        "colab": {
          "base_uri": "https://localhost:8080/"
        }
      },
      "execution_count": 1,
      "outputs": [
        {
          "output_type": "stream",
          "name": "stdout",
          "text": [
            "Media: 8.222222222222221\n",
            "Mediana: 9\n",
            "Moda: 10\n"
          ]
        }
      ]
    },
    {
      "cell_type": "markdown",
      "source": [
        "# 🤖 **<font color = '#A6BDDB'> Aplicaciones en la IA**🤖"
      ],
      "metadata": {
        "id": "D83Iz7hkDUrP"
      }
    },
    {
      "cell_type": "markdown",
      "source": [
        "**¿Cómo funciona ```TextBlob```?**"
      ],
      "metadata": {
        "id": "D2lsQf01KmCd"
      }
    },
    {
      "cell_type": "markdown",
      "source": [
        "```TextBlob``` es una biblioteca de código abierto para el procesamiento del lenguaje natural (**PLN**) en Python. Es una herramienta fácil de usar que ofrece una API sencilla para realizar tareas como:\n",
        "\n",
        "* **`Análisis de sentimientos:`** TextBlob permite clasificar un texto como positivo 👍, negativo 👎 o neutro, y también ofrece la posibilidad de obtener la polaridad y la subjetividad del texto.\n",
        "\n",
        "* **`Etiquetado de partes del discurso:`** TextBlob puede identificar las partes del discurso de cada palabra en una oración, como sustantivos, verbos, adjetivos y adverbios."
      ],
      "metadata": {
        "id": "xqXqEwSuK9us"
      }
    },
    {
      "cell_type": "markdown",
      "source": [
        "## **<font color = '#67A9CF'> Calcular la puntuación de sentimiento general de un conjunto de datos de texto:**"
      ],
      "metadata": {
        "id": "BLSv46y4FgjO"
      }
    },
    {
      "cell_type": "code",
      "source": [
        "from IPython.display import Image\n",
        "\n",
        "Image(url='https://www.userflow.nl/images/Facebook/7-Facebook-Emoticon-reactions-icon-PNGFULL_PNG.png', width = 981, height = 178)"
      ],
      "metadata": {
        "id": "e8TG-YN_Dc-n",
        "outputId": "2992e5a3-bb09-4d28-8cae-e89cb0b8c311",
        "colab": {
          "base_uri": "https://localhost:8080/",
          "height": 200
        }
      },
      "execution_count": 2,
      "outputs": [
        {
          "output_type": "execute_result",
          "data": {
            "text/html": [
              "<img src=\"https://www.userflow.nl/images/Facebook/7-Facebook-Emoticon-reactions-icon-PNGFULL_PNG.png\" width=\"981\" height=\"178\"/>"
            ],
            "text/plain": [
              "<IPython.core.display.Image object>"
            ]
          },
          "metadata": {},
          "execution_count": 2
        }
      ]
    },
    {
      "cell_type": "code",
      "source": [
        "from textblob import TextBlob\n",
        "\n",
        "def calcular_puntuacion_sentimiento(texto, calificaciones_producto):\n",
        "  blob = TextBlob(texto)\n",
        "  puntuacion_sentimiento = blob.sentiment.polarity\n",
        "\n",
        "  # Calcular la media y la mediana de las calificaciones del producto\n",
        "  media_calificacion = sum(calificaciones_producto) / len(calificaciones_producto)\n",
        "  mediana_calificacion = sorted(calificaciones_producto)[len(calificaciones_producto) // 2]\n",
        "\n",
        "  # Calcular la puntuación de sentimiento ajustada\n",
        "  puntuacion_ajustada = puntuacion_sentimiento + (media_calificacion + mediana_calificacion) / 2.0\n",
        "\n",
        "  return puntuacion_ajustada\n",
        "\n",
        "\n",
        "# Ejemplo de uso\n",
        "texto = \"Me encanta este producto! Es genial.\"\n",
        "calificaciones_producto = [4.5, 5.0, 5.0, 4.2, 4.8]\n",
        "\n",
        "puntuacion_sentimiento = calcular_puntuacion_sentimiento(texto, calificaciones_producto)\n",
        "\n",
        "print(\"Puntuación de sentimiento:\", puntuacion_sentimiento)\n",
        "\n",
        "if puntuacion_sentimiento < 2.9:\n",
        "    print(\"Sentimiento: negativo\")\n",
        "elif puntuacion_sentimiento > 4.0:\n",
        "    print(\"Sentimiento: positivo\")\n",
        "else:\n",
        "    print(\"Sentimiento: neutro\")\n",
        "\n",
        "\n"
      ],
      "metadata": {
        "id": "-_ZZpCSONKlP",
        "outputId": "737ea141-5686-4a3a-c6ba-3da1fc754732",
        "colab": {
          "base_uri": "https://localhost:8080/"
        }
      },
      "execution_count": 3,
      "outputs": [
        {
          "output_type": "stream",
          "name": "stdout",
          "text": [
            "Puntuación de sentimiento: 4.75\n",
            "Sentimiento: positivo\n"
          ]
        }
      ]
    },
    {
      "cell_type": "markdown",
      "source": [
        "💥 **`Conclusión:`**\n",
        "\n",
        "En este ejemplo, se calcula la media y la mediana de las calificaciones del producto. Luego, se usa la media y la mediana para calcular una puntuación de sentimiento ajustada. La puntuación de sentimiento ajustada toma en cuenta tanto la opinión del usuario sobre el producto como la opinión general de otros usuarios."
      ],
      "metadata": {
        "id": "s9IaWZw0ZcSO"
      }
    },
    {
      "cell_type": "markdown",
      "source": [
        "💡**`Explicación:`**"
      ],
      "metadata": {
        "id": "vZ1tNjaeZoOK"
      }
    },
    {
      "cell_type": "markdown",
      "source": [
        "**<font color = '#67A9CF'>1. Importación de la biblioteca TextBlob:**\n",
        "\n",
        "    from textblob import TextBlob"
      ],
      "metadata": {
        "id": "SrdyB7hXZxVD"
      }
    },
    {
      "cell_type": "markdown",
      "source": [
        "**<font color = '#67A9CF'>2. Definición de la función**\n",
        "\n",
        "    def calcular_puntuacion_sentimiento(texto, calificaciones_producto):\n",
        "\n",
        "**Parámetros:**\n",
        "\n",
        "* **texto:** El texto que se desea analizar.\n",
        "\n",
        "* **calificaciones_producto:** Una lista que contiene las calificaciones de otros usuarios para el producto."
      ],
      "metadata": {
        "id": "8azmgDTaaV0M"
      }
    },
    {
      "cell_type": "markdown",
      "source": [
        "**<font color = '#67A9CF'>3. Cálculo de la polaridad del sentimiento del texto:**\n",
        "\n",
        "    blob = TextBlob(texto)\n",
        "    puntuacion_sentimiento = blob.sentiment.polarity\n",
        "\n",
        "* Se crea un objeto ```TextBlob``` a partir del texto.\n",
        "* Se obtiene la polaridad del sentimiento del texto utilizando el atributo ```sentiment.polarity```."
      ],
      "metadata": {
        "id": "k1-AyUWvaeYF"
      }
    },
    {
      "cell_type": "markdown",
      "source": [
        "**<font color = '#67A9CF'>4. Cálculo de la media y la mediana de las calificaciones del producto:**\n",
        "\n",
        "    # Calcular la media y la mediana de las calificaciones del producto\n",
        "    \n",
        "    media_calificacion = sum(calificaciones_producto) / len(calificaciones_producto)\n",
        "\n",
        "    mediana_calificacion = sorted(calificaciones_producto)[len(calificaciones_producto) // 2]"
      ],
      "metadata": {
        "id": "cWJfAEF2bN9g"
      }
    },
    {
      "cell_type": "markdown",
      "source": [
        "* Se calcula la media de las calificaciones del producto sumando todas las calificaciones y dividiendo por la cantidad de calificaciones.\n",
        "\n",
        "* Se calcula la mediana de las calificaciones del producto ordenando las calificaciones y seleccionando la calificación que se encuentra en la mitad de la lista."
      ],
      "metadata": {
        "id": "MSujgVkUbeIh"
      }
    },
    {
      "cell_type": "markdown",
      "source": [
        "**<font color = '#67A9CF'>5. Cálculo de la puntuación de sentimiento ajustada:**\n",
        "\n"
      ],
      "metadata": {
        "id": "picqUo7KcA-f"
      }
    },
    {
      "cell_type": "markdown",
      "source": [
        "    # Calcular la puntuación de sentimiento ajustada\n",
        "\n",
        "    puntuacion_ajustada = puntuacion_sentimiento + (media_calificacion + mediana_calificacion) / 2.0"
      ],
      "metadata": {
        "id": "tsWhmO5rcGHk"
      }
    },
    {
      "cell_type": "markdown",
      "source": [
        "Se calcula la puntuación de sentimiento ajustada sumando la polaridad del sentimiento del texto a la media y la mediana de las calificaciones del producto, y dividiendo por 2.\n"
      ],
      "metadata": {
        "id": "12mk14picQEK"
      }
    },
    {
      "cell_type": "markdown",
      "source": [
        "**<font color = '#67A9CF'>6. Retorno de la puntuación de sentimiento ajustada:**\n",
        "\n",
        "      return puntuacion_ajustada"
      ],
      "metadata": {
        "id": "Yr9q4W98cUyg"
      }
    },
    {
      "cell_type": "markdown",
      "source": [
        "# ⛳ **<font color = '#FB6A4A'> Ejercicios de práctica** ⛳"
      ],
      "metadata": {
        "id": "G11ywcJnZFZ6"
      }
    },
    {
      "cell_type": "markdown",
      "source": [
        "**<font color = '#FEE0D2'>1. Calcular la calificación promedio de una clase:**"
      ],
      "metadata": {
        "id": "rBZGBUTIjMZH"
      }
    },
    {
      "cell_type": "code",
      "source": [
        "calificaciones = [8, 9, 7, 10, 6]\n",
        "\n",
        "# Calcular la media\n",
        "def calcular_media(calificaciones):\n",
        "\n",
        "  media = sum(calificaciones) / len(calificaciones)\n",
        "\n",
        "  return {\n",
        "    \"media\": media,\n",
        "\n",
        "  }\n",
        "\n",
        "\n",
        "# Ejemplo de uso\n",
        "\n",
        "\n",
        "media = calcular_media(calificaciones)\n",
        "\n",
        "print(f\"Media: {medidas_tendencia_central['media']}\")\n",
        "\n"
      ],
      "metadata": {
        "id": "ezWtB0Wvdbds",
        "outputId": "8c3ebe3c-d2f3-4c85-820f-8a3ed6b00fa1",
        "colab": {
          "base_uri": "https://localhost:8080/"
        }
      },
      "execution_count": 4,
      "outputs": [
        {
          "output_type": "stream",
          "name": "stdout",
          "text": [
            "Media: 8.222222222222221\n"
          ]
        }
      ]
    },
    {
      "cell_type": "markdown",
      "source": [
        "**<font color = '#FEE0D2'>2. Calcular el salario medio de una población:**\n",
        "\n"
      ],
      "metadata": {
        "id": "k-UvUSkAjX5P"
      }
    },
    {
      "cell_type": "code",
      "source": [
        "salarios = [20000, 30000, 40000, 50000, 60000]\n",
        "\n",
        "# Calcular la media y mediana, luego comparar.\n",
        "\n",
        "def calcular_medidas_tendencia_central(salarios):\n",
        "\n",
        "  media = sum(salarios) / len(salarios)\n",
        "  mediana = sorted(salarios)[len(salarios) // 2]\n",
        "\n",
        "\n",
        "  return {\n",
        "    \"media\": media,\n",
        "    \"mediana\": mediana,\n",
        "\n",
        "  }\n",
        "\n",
        "\n",
        "# Ejemplo de uso\n",
        "\n",
        "\n",
        "medidas_tendencia_central = calcular_medidas_tendencia_central(salarios)\n",
        "\n",
        "print(f\"Media: {medidas_tendencia_central['media']}\")\n",
        "print(f\"Mediana: {medidas_tendencia_central['mediana']}\")\n",
        "if {medidas_tendencia_central['media']} < {medidas_tendencia_central['mediana']}:\n",
        "  print(\"La media es menor a la mediana\")\n",
        "elif {medidas_tendencia_central['media']} > {medidas_tendencia_central['mediana']}:\n",
        "  print(\"La media es mayor a la mediana\")\n",
        "else:\n",
        "  print(\"La media es igual a la mendiana\")\n"
      ],
      "metadata": {
        "id": "7_wMl_WcjdIY",
        "outputId": "8a7e3f53-7f2e-4c5c-f77d-07962f98bfc3",
        "colab": {
          "base_uri": "https://localhost:8080/"
        }
      },
      "execution_count": 18,
      "outputs": [
        {
          "output_type": "stream",
          "name": "stdout",
          "text": [
            "Media: 40000.0\n",
            "Mediana: 40000\n",
            "La media es igual a la mendiana\n"
          ]
        }
      ]
    },
    {
      "cell_type": "markdown",
      "source": [
        "**<font color = '#FEE0D2'>3. Calcular la talla de calzado más común en un grupo de personas:**\n",
        "\n"
      ],
      "metadata": {
        "id": "EfDS07aPjrMW"
      }
    },
    {
      "cell_type": "code",
      "source": [
        "tallas_calzado = [38, 39, 40, 41, 42, 40, 41]\n",
        "\n",
        "# Calcular la mediana y moda, luego comparar.\n",
        "def calcular_medidas_tendencia_central(tallas_calzado):\n",
        "\n",
        "  media = sum(tallas_calzado) / len(tallas_calzado)\n",
        "  mediana = sorted(tallas_calzado)[len(tallas_calzado) // 2]\n",
        "  moda = max(set(tallas_calzado), key=tallas_calzado.count)\n",
        "\n",
        "  return {\n",
        "    \"media\": media,\n",
        "    \"mediana\": mediana,\n",
        "    \"moda\": moda,\n",
        "  }\n",
        "\n",
        "\n",
        "# Ejemplo de uso\n",
        "\n",
        "\n",
        "medidas_tendencia_central = calcular_medidas_tendencia_central(tallas_calzado)\n",
        "\n",
        "print(f\"Media: {medidas_tendencia_central['media']}\")\n",
        "print(f\"Mediana: {medidas_tendencia_central['mediana']}\")\n",
        "print(f\"Moda: {medidas_tendencia_central['moda']}\")\n"
      ],
      "metadata": {
        "id": "wRQn4qYEj2tG",
        "outputId": "75e84933-4ea1-4695-ecb0-4084e01a8d87",
        "colab": {
          "base_uri": "https://localhost:8080/"
        }
      },
      "execution_count": 19,
      "outputs": [
        {
          "output_type": "stream",
          "name": "stdout",
          "text": [
            "Media: 40.142857142857146\n",
            "Mediana: 40\n",
            "Moda: 40\n"
          ]
        }
      ]
    }
  ]
}