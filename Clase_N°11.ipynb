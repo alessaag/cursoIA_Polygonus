{
  "nbformat": 4,
  "nbformat_minor": 0,
  "metadata": {
    "colab": {
      "provenance": [],
      "collapsed_sections": [
        "pJExELLSJ2vV",
        "JqGgmBVIiuuw",
        "fw-blS-rjjiB",
        "MU1oxIlwn3Fw",
        "xHuZl6fEQQQ3",
        "dquMF3HhRYYx",
        "52MzETfMULLS",
        "BTK1u86OYooT",
        "ttlmzk_KZmOc"
      ],
      "include_colab_link": true
    },
    "kernelspec": {
      "name": "python3",
      "display_name": "Python 3"
    },
    "language_info": {
      "name": "python"
    }
  },
  "cells": [
    {
      "cell_type": "markdown",
      "metadata": {
        "id": "view-in-github",
        "colab_type": "text"
      },
      "source": [
        "<a href=\"https://colab.research.google.com/github/alessaag/cursoIA_Polygonus/blob/main/Clase_N%C2%B011.ipynb\" target=\"_parent\"><img src=\"https://colab.research.google.com/assets/colab-badge.svg\" alt=\"Open In Colab\"/></a>"
      ]
    },
    {
      "cell_type": "markdown",
      "source": [
        "# **<font color='#FFD92F'>DISTRIBUCIONES DE PROBABILIDAD: \"Una Introducción\"</font>** 🌎\n",
        "\n"
      ],
      "metadata": {
        "id": "Wz-CtC0nIw-s"
      }
    },
    {
      "cell_type": "markdown",
      "source": [
        "En el mundo de la probabilidad y la estadística, las **distribuciones de probabilidad** son herramientas fundamentales para comprender el comportamiento de *variables aleatorias*. Son funciones que asignan a cada posible resultado de un experimento aleatorio, la probabilidad de que dicho resultado ocurra."
      ],
      "metadata": {
        "id": "Mk3nS5vpJfQ9"
      }
    },
    {
      "cell_type": "markdown",
      "source": [
        "## ⭐**Tipos de Variables aleatorias**⭐"
      ],
      "metadata": {
        "id": "pJExELLSJ2vV"
      }
    },
    {
      "cell_type": "markdown",
      "source": [
        "### **<font color='#FFAA0E'>Discretas:</font>**\n",
        "Solo pueden tomar un número **`finito o infinito numerable`** de valores. Algunos ejemplos son:"
      ],
      "metadata": {
        "id": "lLvUlJ47KIJE"
      }
    },
    {
      "cell_type": "markdown",
      "source": [
        "* El número de cartas en una baraja inglesa.\n",
        "\n",
        "* El número de hijos en una familia.\n",
        "\n",
        "* El número de defectos en un producto."
      ],
      "metadata": {
        "id": "9zij22v6KaAI"
      }
    },
    {
      "cell_type": "code",
      "source": [
        "from IPython.display import Image\n",
        "\n",
        "Image(url='https://w7.pngwing.com/pngs/693/394/png-transparent-solitaire-game-application-playing-card-standard-52-card-deck-card-game-deck-of-cards-game-text-rectangle.png', width = 1200, height = 500)"
      ],
      "metadata": {
        "id": "uiu3JxZyMToF",
        "outputId": "d793fce2-b705-484f-b942-78fca7ccd458",
        "colab": {
          "base_uri": "https://localhost:8080/",
          "height": 522
        }
      },
      "execution_count": 1,
      "outputs": [
        {
          "output_type": "execute_result",
          "data": {
            "text/html": [
              "<img src=\"https://w7.pngwing.com/pngs/693/394/png-transparent-solitaire-game-application-playing-card-standard-52-card-deck-card-game-deck-of-cards-game-text-rectangle.png\" width=\"1200\" height=\"500\"/>"
            ],
            "text/plain": [
              "<IPython.core.display.Image object>"
            ]
          },
          "metadata": {},
          "execution_count": 1
        }
      ]
    },
    {
      "cell_type": "markdown",
      "source": [
        "### **<font color='#FFAA0E'>Continuas:</font>**\n",
        "\n",
        "Pueden tomar cualquier **`valor dentro de un intervalo.`** Algunos ejemplos son:"
      ],
      "metadata": {
        "id": "nSM3LTSQJP7X"
      }
    },
    {
      "cell_type": "markdown",
      "source": [
        "* La altura de una persona.\n",
        "* El peso de una caja.\n",
        "* La temperatura en un día determinado."
      ],
      "metadata": {
        "id": "OoFDMvXkdRbn"
      }
    },
    {
      "cell_type": "code",
      "source": [
        "Image(url='https://cdn.statcdn.com/Infographic/images/normal/23732.jpeg', width = 600, height = 800)"
      ],
      "metadata": {
        "id": "YRj93ksyQUf4",
        "outputId": "08e68386-b665-45ea-9170-134dfbee6be9",
        "colab": {
          "base_uri": "https://localhost:8080/",
          "height": 822
        }
      },
      "execution_count": 2,
      "outputs": [
        {
          "output_type": "execute_result",
          "data": {
            "text/html": [
              "<img src=\"https://cdn.statcdn.com/Infographic/images/normal/23732.jpeg\" width=\"600\" height=\"800\"/>"
            ],
            "text/plain": [
              "<IPython.core.display.Image object>"
            ]
          },
          "metadata": {},
          "execution_count": 2
        }
      ]
    },
    {
      "cell_type": "markdown",
      "source": [
        "### 🌳**<font color='#BCBD22'>Según su naturaleza</font>**🌳"
      ],
      "metadata": {
        "id": "g5n3OdBFfzM1"
      }
    },
    {
      "cell_type": "markdown",
      "source": [
        "> **`Cualitativas:`** Sus valores son categorías o cualidades, como el color de ojos o la marca de un vehículo.\n",
        "\n",
        "> **`Cuantitativas:`** Sus valores son numéricos, como la altura o el peso."
      ],
      "metadata": {
        "id": "Y5bR4H7vgWNm"
      }
    },
    {
      "cell_type": "markdown",
      "source": [
        "🏹🎯 **Practica** 🎯🏹"
      ],
      "metadata": {
        "id": "bNSuNo5Cgi_X"
      }
    },
    {
      "cell_type": "markdown",
      "source": [
        "* `El color de un automóvil (rojo, azul, verde, etc.).`"
      ],
      "metadata": {
        "id": "GzcTdWaXhX-2"
      }
    },
    {
      "cell_type": "markdown",
      "source": [
        "Cualitativa"
      ],
      "metadata": {
        "id": "fIFd1Zr2U7vV"
      }
    },
    {
      "cell_type": "markdown",
      "source": [],
      "metadata": {
        "id": "rplF-X4ch6Jk"
      }
    },
    {
      "cell_type": "markdown",
      "source": [
        "* `El número de estudiantes en una clase.`"
      ],
      "metadata": {
        "id": "_bqmnI0_h6AE"
      }
    },
    {
      "cell_type": "markdown",
      "source": [
        "Cuantitativa\n",
        "\n"
      ],
      "metadata": {
        "id": "A09-lljoh53J"
      }
    },
    {
      "cell_type": "markdown",
      "source": [
        "* `La temperatura en una ciudad.`"
      ],
      "metadata": {
        "id": "LZqh0uoNh5p1"
      }
    },
    {
      "cell_type": "markdown",
      "source": [
        "Cuantitativa"
      ],
      "metadata": {
        "id": "v5dEOGbMh_yn"
      }
    },
    {
      "cell_type": "markdown",
      "source": [
        "* `La altura de un edificio.`"
      ],
      "metadata": {
        "id": "Bsw3BfFGh_qC"
      }
    },
    {
      "cell_type": "markdown",
      "source": [
        "Cuantitativa"
      ],
      "metadata": {
        "id": "reOocZ9aPjOq"
      }
    },
    {
      "cell_type": "markdown",
      "source": [
        "## ⭐**Tipos de Distribuciones de Probabilidad**⭐\n",
        "\n",
        "Las distribuciones de probabilidad son herramientas esenciales para el análisis de datos y la toma de decisiones en diversos campos. La elección de la distribución adecuada depende de las características de la variable aleatoria que se está estudiando."
      ],
      "metadata": {
        "id": "JqGgmBVIiuuw"
      }
    },
    {
      "cell_type": "markdown",
      "source": [
        "### **<font color='#98D9E4'>DISTRIBUCIONES DISCRETAS**\n"
      ],
      "metadata": {
        "id": "fw-blS-rjjiB"
      }
    },
    {
      "cell_type": "markdown",
      "source": [
        "#### **<font color ='#30BCAD'> Binomial:**"
      ],
      "metadata": {
        "id": "3XW7F16ykFxz"
      }
    },
    {
      "cell_type": "code",
      "source": [
        "Image(url='https://upload.wikimedia.org/wikipedia/commons/thumb/7/75/Binomial_distribution_pmf.svg/488px-Binomial_distribution_pmf.svg.png', width = 500, height = 400)"
      ],
      "metadata": {
        "id": "OebRv9eFjPPD",
        "outputId": "8009e8a9-1206-41f2-860d-d881b7b422ee",
        "colab": {
          "base_uri": "https://localhost:8080/",
          "height": 422
        }
      },
      "execution_count": 3,
      "outputs": [
        {
          "output_type": "execute_result",
          "data": {
            "text/html": [
              "<img src=\"https://upload.wikimedia.org/wikipedia/commons/thumb/7/75/Binomial_distribution_pmf.svg/488px-Binomial_distribution_pmf.svg.png\" width=\"500\" height=\"400\"/>"
            ],
            "text/plain": [
              "<IPython.core.display.Image object>"
            ]
          },
          "metadata": {},
          "execution_count": 3
        }
      ]
    },
    {
      "cell_type": "markdown",
      "source": [
        "✅ Se utiliza para modelar la probabilidad de obtener **`\"éxitos\"`** en una serie de **`\"n\"`** ensayos independientes, con probabilidad constante de éxito **`\"P\"`**. Se aplica en:\n",
        "\n",
        "* `Lanzamiento de monedas.`\n",
        "* `Pruebas de diagnóstico.`\n",
        "* `Encuestas de opinión`"
      ],
      "metadata": {
        "id": "rla9DiSllTMB"
      }
    },
    {
      "cell_type": "markdown",
      "source": [
        "#### **<font color ='#30BCAD'>Poisson:**"
      ],
      "metadata": {
        "id": "MU1oxIlwn3Fw"
      }
    },
    {
      "cell_type": "code",
      "source": [
        "Image(url='https://upload.wikimedia.org/wikipedia/commons/thumb/1/16/Poisson_pmf.svg/488px-Poisson_pmf.svg.png', width = 500, height = 400)"
      ],
      "metadata": {
        "id": "c9Nf-3iPoRlf",
        "outputId": "f0bfe733-103f-42e1-a125-0c0ac636460d",
        "colab": {
          "base_uri": "https://localhost:8080/",
          "height": 422
        }
      },
      "execution_count": 10,
      "outputs": [
        {
          "output_type": "execute_result",
          "data": {
            "text/html": [
              "<img src=\"https://upload.wikimedia.org/wikipedia/commons/thumb/1/16/Poisson_pmf.svg/488px-Poisson_pmf.svg.png\" width=\"500\" height=\"400\"/>"
            ],
            "text/plain": [
              "<IPython.core.display.Image object>"
            ]
          },
          "metadata": {},
          "execution_count": 10
        }
      ]
    },
    {
      "cell_type": "markdown",
      "source": [
        "✅ Describe la probabilidad de que **`ocurra un número determinado de eventos en un intervalo de tiempo o espacio`**, dado que la tasa de ocurrencia es constante. Se utiliza en:\n",
        "\n",
        "* `Número de llamadas telefónicas en un centro de atención al cliente.`\n",
        "* `Defectos en un producto.`\n",
        "* `Accidentes de tráfico en una carretera.`"
      ],
      "metadata": {
        "id": "eaxPZzlKoXqf"
      }
    },
    {
      "cell_type": "markdown",
      "source": [
        "#### **<font color ='#30BCAD'>Distribución uniforme:**"
      ],
      "metadata": {
        "id": "B00Cpa-VotSy"
      }
    },
    {
      "cell_type": "code",
      "source": [
        "Image(url='https://sf.ezoiccdn.com/ezoimgfmt/www.probabilidadyestadistica.net/wp-content/uploads/2022/12/distribucion-uniforme-discreta.png?ezimgfmt=rs:334x234/rscb1/ngcb1/notWebP', width = 500, height = 350)\n"
      ],
      "metadata": {
        "id": "nabbMZN2n856",
        "outputId": "fb19ead8-12f3-4867-cf8a-5ecde5b8ab46",
        "colab": {
          "base_uri": "https://localhost:8080/",
          "height": 372
        }
      },
      "execution_count": 11,
      "outputs": [
        {
          "output_type": "execute_result",
          "data": {
            "text/html": [
              "<img src=\"https://sf.ezoiccdn.com/ezoimgfmt/www.probabilidadyestadistica.net/wp-content/uploads/2022/12/distribucion-uniforme-discreta.png?ezimgfmt=rs:334x234/rscb1/ngcb1/notWebP\" width=\"500\" height=\"350\"/>"
            ],
            "text/plain": [
              "<IPython.core.display.Image object>"
            ]
          },
          "metadata": {},
          "execution_count": 11
        }
      ]
    },
    {
      "cell_type": "markdown",
      "source": [
        "✅ **`Asigna la misma probabilidad a cada valor posible dentro de un intervalo.`** Se aplica en:\n",
        "\n",
        "* `Lanzamiento de dados.`\n",
        "* `Selección aleatoria de números.`\n",
        "* `Simulaciones Monte Carlo.`"
      ],
      "metadata": {
        "id": "GnByk8Fpp_nK"
      }
    },
    {
      "cell_type": "markdown",
      "source": [
        "#### **<font color ='#30BCAD'>Bernoulli:**"
      ],
      "metadata": {
        "id": "UItJmN8rsgTr"
      }
    },
    {
      "cell_type": "code",
      "source": [
        "Image(url='https://la.mathworks.com/help/stats/computebernoullidistributionpdfexample_01_es.png', width = 600, height = 500)"
      ],
      "metadata": {
        "id": "yBFLv4B7snhj",
        "outputId": "48c448f3-ab70-40fa-d579-efd386aab51f",
        "colab": {
          "base_uri": "https://localhost:8080/",
          "height": 522
        }
      },
      "execution_count": 6,
      "outputs": [
        {
          "output_type": "execute_result",
          "data": {
            "text/html": [
              "<img src=\"https://la.mathworks.com/help/stats/computebernoullidistributionpdfexample_01_es.png\" width=\"600\" height=\"500\"/>"
            ],
            "text/plain": [
              "<IPython.core.display.Image object>"
            ]
          },
          "metadata": {},
          "execution_count": 6
        }
      ]
    },
    {
      "cell_type": "markdown",
      "source": [
        "✅ Es un caso especial de la distribución binomial con \"n\" = 1. **`Se utiliza para modelar eventos con solo dos posibles resultados, como éxito o fracaso.`** Se aplica en:\n",
        "\n",
        "* `Funcionamiento de un dispositivo electrónico.`\n",
        "* `Superación de un examen.`\n",
        "* `Respuesta a una pregunta de sí/no.`"
      ],
      "metadata": {
        "id": "QLQbGco-tCYy"
      }
    },
    {
      "cell_type": "markdown",
      "source": [
        "### **<font color='#98D9E4'>DISTRIBUCIONES CONTINUAS**"
      ],
      "metadata": {
        "id": "zSvGGHV9ts81"
      }
    },
    {
      "cell_type": "markdown",
      "source": [
        "#### **<font color ='#30BCAD'>Normal:**"
      ],
      "metadata": {
        "id": "uEwC2Np1uRJ1"
      }
    },
    {
      "cell_type": "code",
      "source": [
        "Image(url='https://fhernanb.github.io/Manual-de-R/Manual_de_R_files/figure-html/casesDistNormal-1.png', width = 972, height = 729)"
      ],
      "metadata": {
        "id": "1iCpFeGzlLJd",
        "outputId": "fa0e4844-4b4d-4b4c-cd03-4e2cc75e2ce2",
        "colab": {
          "base_uri": "https://localhost:8080/",
          "height": 751
        }
      },
      "execution_count": 7,
      "outputs": [
        {
          "output_type": "execute_result",
          "data": {
            "text/html": [
              "<img src=\"https://fhernanb.github.io/Manual-de-R/Manual_de_R_files/figure-html/casesDistNormal-1.png\" width=\"972\" height=\"729\"/>"
            ],
            "text/plain": [
              "<IPython.core.display.Image object>"
            ]
          },
          "metadata": {},
          "execution_count": 7
        }
      ]
    },
    {
      "cell_type": "markdown",
      "source": [
        "✅ **`También conocida como distribución de Gauss`**, es una de las distribuciones más importantes en estadística. Se caracteriza por su forma de campana simétrica. Se aplica en:\n",
        "\n",
        "* `Altura de personas.`\n",
        "* `Peso de animales.`\n",
        "* `Distribución de calificaciones en un examen.`\n"
      ],
      "metadata": {
        "id": "hyrNSLkuu15b"
      }
    },
    {
      "cell_type": "markdown",
      "source": [
        "#### **<font color ='#30BCAD'>Uniforme:**\n",
        "\n"
      ],
      "metadata": {
        "id": "7-95HaK5vQp0"
      }
    },
    {
      "cell_type": "code",
      "source": [
        "Image(url='https://r-coder.com/images/featured/uniform-distribution-in-r.png', width = 800, height = 500)"
      ],
      "metadata": {
        "id": "Jm9e5C1buqPW",
        "outputId": "65e9d29e-294c-472b-9650-82a31a282cc6",
        "colab": {
          "base_uri": "https://localhost:8080/",
          "height": 522
        }
      },
      "execution_count": 12,
      "outputs": [
        {
          "output_type": "execute_result",
          "data": {
            "text/html": [
              "<img src=\"https://r-coder.com/images/featured/uniform-distribution-in-r.png\" width=\"800\" height=\"500\"/>"
            ],
            "text/plain": [
              "<IPython.core.display.Image object>"
            ]
          },
          "metadata": {},
          "execution_count": 12
        }
      ]
    },
    {
      "cell_type": "markdown",
      "source": [
        "✅ Similar a la distribución uniforme discreta, pero para variables continuas. Se aplica en:\n",
        "\n",
        "* `Distribución de la temperatura en un día.`\n",
        "* `Tiempos de espera en una fila.`\n",
        "* `Errores de medición.`"
      ],
      "metadata": {
        "id": "tyPxKfnmwNCs"
      }
    },
    {
      "cell_type": "markdown",
      "source": [
        "#### **<font color ='#30BCAD'>Exponencial:**"
      ],
      "metadata": {
        "id": "J9nsLwK1wr2B"
      }
    },
    {
      "cell_type": "code",
      "source": [
        "Image(url='https://upload.wikimedia.org/wikipedia/commons/thumb/e/ec/Exponential_pdf.svg/450px-Exponential_pdf.svg.png', width = 500, height = 400)"
      ],
      "metadata": {
        "id": "iIeC0YaGwMa-",
        "outputId": "f3b4e70e-3855-4006-b209-0732547eb7bd",
        "colab": {
          "base_uri": "https://localhost:8080/",
          "height": 422
        }
      },
      "execution_count": 9,
      "outputs": [
        {
          "output_type": "execute_result",
          "data": {
            "text/html": [
              "<img src=\"https://upload.wikimedia.org/wikipedia/commons/thumb/e/ec/Exponential_pdf.svg/450px-Exponential_pdf.svg.png\" width=\"500\" height=\"400\"/>"
            ],
            "text/plain": [
              "<IPython.core.display.Image object>"
            ]
          },
          "metadata": {},
          "execution_count": 9
        }
      ]
    },
    {
      "cell_type": "markdown",
      "source": [
        "✅ **`Describe el tiempo hasta que ocurre un evento`**, con una tasa de ocurrencia constante. Se utiliza en:\n",
        "\n",
        "* `Tiempo de vida útil de un componente electrónico.`\n",
        "* `Tiempo de espera entre llamadas telefónicas.`\n",
        "* `Tiempo de llegada de clientes a una tienda.`"
      ],
      "metadata": {
        "id": "C__ADIL4xdYz"
      }
    },
    {
      "cell_type": "markdown",
      "source": [
        "## ⭐**Aplicaciones en Inteligencia Artificial**⭐"
      ],
      "metadata": {
        "id": "xHuZl6fEQQQ3"
      }
    },
    {
      "cell_type": "markdown",
      "source": [
        "### 📞 **`Contexto:` Un centro de llamadas recibe un promedio de 10 llamadas por hora.**"
      ],
      "metadata": {
        "id": "dquMF3HhRYYx"
      }
    },
    {
      "cell_type": "markdown",
      "source": [
        "✅ **`Objetivo:`** Calcular la probabilidad de que el centro de llamadas reciba exactamente 15 llamadas en la próxima hora."
      ],
      "metadata": {
        "id": "DJrRXzVMRncd"
      }
    },
    {
      "cell_type": "code",
      "source": [
        "from scipy.stats import poisson\n",
        "\n",
        "# Parámetros\n",
        "lambda_ = 10  # Promedio de llamadas por hora\n",
        "k = 15  # Número de llamadas a calcular\n",
        "\n",
        "# Calcular la probabilidad\n",
        "probabilidad = poisson.pmf(k, lambda_)\n",
        "\n",
        "# Imprimir el resultado\n",
        "print(f\"Probabilidad: {probabilidad:.4f}\")"
      ],
      "metadata": {
        "id": "xCFwjHVvQWSB",
        "outputId": "0262426a-f51c-4aa4-9fc6-f9caaa1be5b2",
        "colab": {
          "base_uri": "https://localhost:8080/"
        }
      },
      "execution_count": 22,
      "outputs": [
        {
          "output_type": "stream",
          "name": "stdout",
          "text": [
            "Probabilidad: 0.0347\n"
          ]
        }
      ]
    },
    {
      "cell_type": "markdown",
      "source": [
        "💡**`Interpretación:`** La probabilidad de que el centro de llamadas reciba exactamente 15 llamadas en la próxima hora es de aproximadamente 3.47%."
      ],
      "metadata": {
        "id": "qGWwZjsgTHx_"
      }
    },
    {
      "cell_type": "markdown",
      "source": [
        "💡**`Explicación:`**\n",
        "\n",
        "La distribución de Poisson se utiliza para modelar la probabilidad de que ocurra un número específico de eventos en un intervalo de tiempo fijo, suponiendo que los eventos ocurren de forma independiente y con una tasa constante.\n",
        "\n",
        "En este caso, la función ```poisson.pmf``` de la biblioteca ```scipy.stats``` calcula la probabilidad de que ocurran exactamente ```k``` eventos (llamadas) en un intervalo de tiempo (una hora), con una tasa promedio de ```lambda_``` eventos por unidad de tiempo (10 llamadas por hora).\n",
        "\n"
      ],
      "metadata": {
        "id": "B7vME1YmTR4R"
      }
    },
    {
      "cell_type": "markdown",
      "source": [
        "### 👨👩 **`Contexto:` La altura de la población humana tiende a seguir una distribución normal.**\n",
        "\n"
      ],
      "metadata": {
        "id": "52MzETfMULLS"
      }
    },
    {
      "cell_type": "markdown",
      "source": [
        "✅**`Objetivo:`** Calcular la probabilidad de que una persona seleccionada al azar mida más de 1.80 metros, suponiendo que la altura promedio es de 1.70 metros y la desviación estándar es de 0.10 metros."
      ],
      "metadata": {
        "id": "yaTnDlMmU2S0"
      }
    },
    {
      "cell_type": "code",
      "source": [
        "from scipy.stats import norm\n",
        "\n",
        "# Parámetros\n",
        "media = 1.70  # Altura promedio\n",
        "desviacion_estandar = 0.10  # Desviación estándar\n",
        "altura = 1.80  # Altura a calcular\n",
        "\n",
        "# Calcular la probabilidad\n",
        "probabilidad = norm.cdf(altura, media, desviacion_estandar)\n",
        "\n",
        "# Imprimir el resultado\n",
        "print(f\"Probabilidad: {probabilidad:.4f}\")\n"
      ],
      "metadata": {
        "id": "u7dTX-PnR4TZ",
        "outputId": "7ef9331a-8342-4878-da10-704c55812abb",
        "colab": {
          "base_uri": "https://localhost:8080/"
        }
      },
      "execution_count": 23,
      "outputs": [
        {
          "output_type": "stream",
          "name": "stdout",
          "text": [
            "Probabilidad: 0.8413\n"
          ]
        }
      ]
    },
    {
      "cell_type": "markdown",
      "source": [
        "💡**`Interpretación:`**\n",
        "\n",
        "La probabilidad de que una persona seleccionada al azar mida más de 1.80 metros es de aproximadamente 84.13%."
      ],
      "metadata": {
        "id": "dIKwIsc-WgrG"
      }
    },
    {
      "cell_type": "markdown",
      "source": [
        "💡**`Explicación:`**"
      ],
      "metadata": {
        "id": "fq_BmVi6W712"
      }
    },
    {
      "cell_type": "markdown",
      "source": [
        "En este caso, la función ```norm.cdf``` de la biblioteca ```scipy.stats``` calcula la probabilidad de que una variable aleatoria con distribución normal sea menor o igual a un valor específico (```altura```). La función toma como argumentos la media (```media```), la desviación estándar (```desviacion_estandar```) y el valor a calcular (```altura```)."
      ],
      "metadata": {
        "id": "T4YE0bsbXRmm"
      }
    },
    {
      "cell_type": "markdown",
      "source": [
        "## ⛳**Ejercicios de práctica**"
      ],
      "metadata": {
        "id": "BTK1u86OYooT"
      }
    },
    {
      "cell_type": "markdown",
      "source": [
        "📞**Modificaciones:**\n",
        "\n",
        "Puedes modificar el código para calcular la probabilidad de otros valores de ```k``` (número de llamadas) o para diferentes valores de ```lambda_``` (promedio de llamadas por hora)."
      ],
      "metadata": {
        "id": "Qt3BIAmcY0mV"
      }
    },
    {
      "cell_type": "code",
      "source": [
        "from scipy.stats import poisson\n",
        "\n",
        "# Parámetros\n",
        "lambda_ = 10  # Promedio de llamadas por hora\n",
        "k = 8  # Número de llamadas a calcular\n",
        "\n",
        "# Calcular la probabilidad\n",
        "probabilidad = poisson.pmf(k, lambda_)\n",
        "\n",
        "# Imprimir el resultado\n",
        "print(f\"Probabilidad: {probabilidad:.4f}\")"
      ],
      "metadata": {
        "id": "9Y6Hj25lWZT0",
        "outputId": "3ada8d01-4437-44fe-f760-cbf0332a55a8",
        "colab": {
          "base_uri": "https://localhost:8080/"
        }
      },
      "execution_count": 1,
      "outputs": [
        {
          "output_type": "stream",
          "name": "stdout",
          "text": [
            "Probabilidad: 0.1126\n"
          ]
        }
      ]
    },
    {
      "cell_type": "markdown",
      "source": [
        "👨👩 **Modificaciones:**\n",
        "\n",
        "Puedes modificar el código para calcular la probabilidad de que una persona mida entre dos valores específicos, o para diferentes valores de la media y la desviación estándar."
      ],
      "metadata": {
        "id": "5bQuz4luZBAv"
      }
    },
    {
      "cell_type": "code",
      "source": [
        "from scipy.stats import norm\n",
        "\n",
        "# Parámetros\n",
        "media = 1.70  # Altura promedio\n",
        "desviacion_estandar = 0.10  # Desviación estándar\n",
        "altura1 = 1.75  # Altura a calcular\n",
        "altura2 = 1.64  # Altura a calcular\n",
        "\n",
        "\n",
        "# Calcular la probabilidad de que la altura esté entre altura2 y altura1\n",
        "probabilidad = norm.cdf(altura1, media, desviacion_estandar) - norm.cdf(altura2, media, desviacion_estandar)\n",
        "\n",
        "# Imprimir el resultado\n",
        "print(f\"Probabilidad: {probabilidad:.4f}\")"
      ],
      "metadata": {
        "id": "cKAYTLz8WbXp",
        "outputId": "11498611-b7e4-4912-cf95-704ae416a2cf",
        "colab": {
          "base_uri": "https://localhost:8080/"
        }
      },
      "execution_count": 2,
      "outputs": [
        {
          "output_type": "stream",
          "name": "stdout",
          "text": [
            "Probabilidad: 0.4172\n"
          ]
        }
      ]
    },
    {
      "cell_type": "markdown",
      "source": [
        "## 📚 **Referencias Bibliográficas**"
      ],
      "metadata": {
        "id": "ttlmzk_KZmOc"
      }
    },
    {
      "cell_type": "markdown",
      "source": [
        "> **`Distribuciones de probabilidad`**\n",
        "\n",
        "* \"Introducción a la probabilidad y estadística\" por Jay L. Devore.\n",
        "\n",
        "* \"Fundamentos de estadística\" por Ronald E. Walpole, Raymond H. Myers, Sharon L. Myers y Keying Ye.\n",
        "\n",
        "* \"Probabilidad y estadística para ingeniería y ciencias\" por William W. Hines, Douglas C. Montgomery y David M. Goldsman.\n",
        "\n",
        "> **`Python para la ciencia de datos:`**\n",
        "\n",
        "* \"Python para la ciencia de datos\" por Jake VanderPlas.\n",
        "\n",
        "* \"Hands-On Machine Learning with Scikit-Learn and TensorFlow\" por Aurélien Géron.\n",
        "\n",
        "* \"Introducción al análisis de datos con Python\" por Wes McKinney."
      ],
      "metadata": {
        "id": "hp6SZPFrZwzD"
      }
    }
  ]
}